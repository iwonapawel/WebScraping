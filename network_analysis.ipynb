{
 "cells": [
  {
   "cell_type": "code",
   "execution_count": 1,
   "metadata": {
    "collapsed": true
   },
   "outputs": [],
   "source": [
    "from pymongo import MongoClient\n",
    "import pandas as pd\n",
    "import numpy as np\n",
    "import matplotlib.pyplot as plt\n"
   ]
  },
  {
   "cell_type": "code",
   "execution_count": 2,
   "metadata": {
    "collapsed": true
   },
   "outputs": [],
   "source": [
    "%matplotlib inline\n",
    "pd.set_option('max_columns',200)"
   ]
  },
  {
   "cell_type": "code",
   "execution_count": 55,
   "metadata": {
    "collapsed": true
   },
   "outputs": [],
   "source": [
    "client = MongoClient()\n",
    "db = client.boxofficemojo\n",
    "collection = db.movies\n",
    "cursor = collection.find()"
   ]
  },
  {
   "cell_type": "code",
   "execution_count": 18,
   "metadata": {
    "collapsed": false
   },
   "outputs": [
    {
     "name": "stdout",
     "output_type": "stream",
     "text": [
      "Star Wars: The Force Awakens (2015)\n",
      "[u\"Lupita Nyong'o\", u'John Boyega', u'Daisy Ridley', u'Andy Serkis', u'Harrison Ford', u'Carrie Fisher', u'Mark Hamill', u'Anthony Daniels', u'Peter Mayhew']\n",
      "\n",
      "Avatar (2009)\n",
      "[u'Sam Worthington', u'Zoe Saldana', u'Sigourney Weaver', u'Michelle Rodriguez', u'Giovanni Ribisi', u'Joel David Moore']\n",
      "\n"
     ]
    }
   ],
   "source": [
    "for movie in list(cursor[:2]):\n",
    "    print movie['title']\n",
    "    print movie['Actor']\n",
    "    print "
   ]
  },
  {
   "cell_type": "code",
   "execution_count": 56,
   "metadata": {
    "collapsed": true
   },
   "outputs": [],
   "source": [
    "df1 = pd.DataFrame([{'title':movie['title'],'actor':Actor} for movie in list(cursor) \\\n",
    "                   for Actor in movie['Actor']])"
   ]
  },
  {
   "cell_type": "code",
   "execution_count": 58,
   "metadata": {
    "collapsed": false
   },
   "outputs": [
    {
     "data": {
      "text/html": [
       "<div style=\"max-height:1000px;max-width:1500px;overflow:auto;\">\n",
       "<table border=\"1\" class=\"dataframe\">\n",
       "  <thead>\n",
       "    <tr style=\"text-align: right;\">\n",
       "      <th></th>\n",
       "      <th>actor</th>\n",
       "      <th>title</th>\n",
       "    </tr>\n",
       "  </thead>\n",
       "  <tbody>\n",
       "    <tr>\n",
       "      <th>0</th>\n",
       "      <td>Lupita Nyong'o</td>\n",
       "      <td>Star Wars: The Force Awakens (2015)</td>\n",
       "    </tr>\n",
       "    <tr>\n",
       "      <th>1</th>\n",
       "      <td>John Boyega</td>\n",
       "      <td>Star Wars: The Force Awakens (2015)</td>\n",
       "    </tr>\n",
       "    <tr>\n",
       "      <th>2</th>\n",
       "      <td>Daisy Ridley</td>\n",
       "      <td>Star Wars: The Force Awakens (2015)</td>\n",
       "    </tr>\n",
       "    <tr>\n",
       "      <th>3</th>\n",
       "      <td>Andy Serkis</td>\n",
       "      <td>Star Wars: The Force Awakens (2015)</td>\n",
       "    </tr>\n",
       "    <tr>\n",
       "      <th>4</th>\n",
       "      <td>Harrison Ford</td>\n",
       "      <td>Star Wars: The Force Awakens (2015)</td>\n",
       "    </tr>\n",
       "    <tr>\n",
       "      <th>5</th>\n",
       "      <td>Carrie Fisher</td>\n",
       "      <td>Star Wars: The Force Awakens (2015)</td>\n",
       "    </tr>\n",
       "    <tr>\n",
       "      <th>6</th>\n",
       "      <td>Mark Hamill</td>\n",
       "      <td>Star Wars: The Force Awakens (2015)</td>\n",
       "    </tr>\n",
       "    <tr>\n",
       "      <th>7</th>\n",
       "      <td>Anthony Daniels</td>\n",
       "      <td>Star Wars: The Force Awakens (2015)</td>\n",
       "    </tr>\n",
       "    <tr>\n",
       "      <th>8</th>\n",
       "      <td>Peter Mayhew</td>\n",
       "      <td>Star Wars: The Force Awakens (2015)</td>\n",
       "    </tr>\n",
       "    <tr>\n",
       "      <th>9</th>\n",
       "      <td>Sam Worthington</td>\n",
       "      <td>Avatar (2009)</td>\n",
       "    </tr>\n",
       "    <tr>\n",
       "      <th>10</th>\n",
       "      <td>Zoe Saldana</td>\n",
       "      <td>Avatar (2009)</td>\n",
       "    </tr>\n",
       "    <tr>\n",
       "      <th>11</th>\n",
       "      <td>Sigourney Weaver</td>\n",
       "      <td>Avatar (2009)</td>\n",
       "    </tr>\n",
       "  </tbody>\n",
       "</table>\n",
       "</div>"
      ],
      "text/plain": [
       "               actor                                title\n",
       "0     Lupita Nyong'o  Star Wars: The Force Awakens (2015)\n",
       "1        John Boyega  Star Wars: The Force Awakens (2015)\n",
       "2       Daisy Ridley  Star Wars: The Force Awakens (2015)\n",
       "3        Andy Serkis  Star Wars: The Force Awakens (2015)\n",
       "4      Harrison Ford  Star Wars: The Force Awakens (2015)\n",
       "5      Carrie Fisher  Star Wars: The Force Awakens (2015)\n",
       "6        Mark Hamill  Star Wars: The Force Awakens (2015)\n",
       "7    Anthony Daniels  Star Wars: The Force Awakens (2015)\n",
       "8       Peter Mayhew  Star Wars: The Force Awakens (2015)\n",
       "9    Sam Worthington                        Avatar (2009)\n",
       "10       Zoe Saldana                        Avatar (2009)\n",
       "11  Sigourney Weaver                        Avatar (2009)"
      ]
     },
     "execution_count": 58,
     "metadata": {},
     "output_type": "execute_result"
    }
   ],
   "source": [
    "df1.head(12)"
   ]
  }
 ],
 "metadata": {
  "kernelspec": {
   "display_name": "Python 2",
   "language": "python",
   "name": "python2"
  },
  "language_info": {
   "codemirror_mode": {
    "name": "ipython",
    "version": 2
   },
   "file_extension": ".py",
   "mimetype": "text/x-python",
   "name": "python",
   "nbconvert_exporter": "python",
   "pygments_lexer": "ipython2",
   "version": "2.7.9"
  }
 },
 "nbformat": 4,
 "nbformat_minor": 0
}
