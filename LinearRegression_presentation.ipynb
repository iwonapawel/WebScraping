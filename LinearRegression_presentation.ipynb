{
 "cells": [
  {
   "cell_type": "code",
   "execution_count": 1,
   "metadata": {
    "collapsed": true
   },
   "outputs": [],
   "source": [
    "import pandas as pd\n",
    "import numpy as np\n",
    "from datetime import datetime,date\n",
    "from matplotlib import pyplot as plt\n",
    "%matplotlib inline\n",
    "import statsmodels.formula.api as smf"
   ]
  },
  {
   "cell_type": "code",
   "execution_count": 2,
   "metadata": {
    "collapsed": false
   },
   "outputs": [
    {
     "data": {
      "text/html": [
       "<div style=\"max-height:1000px;max-width:1500px;overflow:auto;\">\n",
       "<table border=\"1\" class=\"dataframe\">\n",
       "  <thead>\n",
       "    <tr style=\"text-align: right;\">\n",
       "      <th></th>\n",
       "      <th>Actors</th>\n",
       "      <th>AveDPT</th>\n",
       "      <th>Directors</th>\n",
       "      <th>DomesticOpeningWeekend</th>\n",
       "      <th>DomesticTotalGross</th>\n",
       "      <th>Genre</th>\n",
       "      <th>MovieTitle</th>\n",
       "      <th>ProductionBudget</th>\n",
       "      <th>Rating</th>\n",
       "      <th>ReleaseDate</th>\n",
       "      <th>Runtime</th>\n",
       "      <th>Theaters</th>\n",
       "      <th>Ones</th>\n",
       "      <th>LogAveDPT</th>\n",
       "      <th>G</th>\n",
       "      <th>PG</th>\n",
       "      <th>PG-13</th>\n",
       "      <th>R</th>\n",
       "    </tr>\n",
       "  </thead>\n",
       "  <tbody>\n",
       "    <tr>\n",
       "      <th>80</th>\n",
       "      <td>Will Smith</td>\n",
       "      <td>21411</td>\n",
       "      <td>Francis Lawrence</td>\n",
       "      <td>77211321</td>\n",
       "      <td>256393010</td>\n",
       "      <td>Sci-Fi Horror</td>\n",
       "      <td>I Am Legend</td>\n",
       "      <td>150000000</td>\n",
       "      <td>PG-13</td>\n",
       "      <td>2007-12-14</td>\n",
       "      <td>100</td>\n",
       "      <td>3606</td>\n",
       "      <td>1</td>\n",
       "      <td>9.971660</td>\n",
       "      <td>0</td>\n",
       "      <td>0</td>\n",
       "      <td>1</td>\n",
       "      <td>0</td>\n",
       "    </tr>\n",
       "    <tr>\n",
       "      <th>81</th>\n",
       "      <td>Sandra Bullock,Kathy Bates,Lily Collins</td>\n",
       "      <td>10971</td>\n",
       "      <td>John Lee Hancock</td>\n",
       "      <td>34119372</td>\n",
       "      <td>255959475</td>\n",
       "      <td>Sports Drama</td>\n",
       "      <td>The Blind Side</td>\n",
       "      <td>29000000</td>\n",
       "      <td>PG-13</td>\n",
       "      <td>2009-11-20</td>\n",
       "      <td>126</td>\n",
       "      <td>3110</td>\n",
       "      <td>1</td>\n",
       "      <td>9.303011</td>\n",
       "      <td>0</td>\n",
       "      <td>0</td>\n",
       "      <td>1</td>\n",
       "      <td>0</td>\n",
       "    </tr>\n",
       "    <tr>\n",
       "      <th>82</th>\n",
       "      <td>Ian McKellen,Orlando Bloom,Evangeline Lilly,Ca...</td>\n",
       "      <td>14122</td>\n",
       "      <td>Peter Jackson</td>\n",
       "      <td>54724334</td>\n",
       "      <td>255119788</td>\n",
       "      <td>Fantasy</td>\n",
       "      <td>The Hobbit: The Battle of the Five Armies</td>\n",
       "      <td>NaN</td>\n",
       "      <td>PG-13</td>\n",
       "      <td>2014-12-17</td>\n",
       "      <td>144</td>\n",
       "      <td>3875</td>\n",
       "      <td>1</td>\n",
       "      <td>9.555489</td>\n",
       "      <td>0</td>\n",
       "      <td>0</td>\n",
       "      <td>1</td>\n",
       "      <td>0</td>\n",
       "    </tr>\n",
       "    <tr>\n",
       "      <th>83</th>\n",
       "      <td>Bradley Cooper,Ed Helms,Zach Galifianakis,Just...</td>\n",
       "      <td>23775</td>\n",
       "      <td>Todd Phillips</td>\n",
       "      <td>85946294</td>\n",
       "      <td>254464305</td>\n",
       "      <td>Comedy</td>\n",
       "      <td>The Hangover Part II</td>\n",
       "      <td>80000000</td>\n",
       "      <td>R</td>\n",
       "      <td>2011-05-26</td>\n",
       "      <td>102</td>\n",
       "      <td>3615</td>\n",
       "      <td>1</td>\n",
       "      <td>10.076390</td>\n",
       "      <td>0</td>\n",
       "      <td>0</td>\n",
       "      <td>0</td>\n",
       "      <td>1</td>\n",
       "    </tr>\n",
       "    <tr>\n",
       "      <th>84</th>\n",
       "      <td>Steve Carell,Jason Segel,Russell Brand,Kristen...</td>\n",
       "      <td>16225</td>\n",
       "      <td>Pierre Coffin,Chris Renaud</td>\n",
       "      <td>56397125</td>\n",
       "      <td>251513985</td>\n",
       "      <td>Animation</td>\n",
       "      <td>Despicable Me</td>\n",
       "      <td>69000000</td>\n",
       "      <td>PG</td>\n",
       "      <td>2010-07-09</td>\n",
       "      <td>95</td>\n",
       "      <td>3476</td>\n",
       "      <td>1</td>\n",
       "      <td>9.694309</td>\n",
       "      <td>0</td>\n",
       "      <td>1</td>\n",
       "      <td>0</td>\n",
       "      <td>0</td>\n",
       "    </tr>\n",
       "    <tr>\n",
       "      <th>85</th>\n",
       "      <td>Jack Nicholson,Michael Keaton,Kim Basinger</td>\n",
       "      <td>18454</td>\n",
       "      <td>Tim Burton</td>\n",
       "      <td>40489746</td>\n",
       "      <td>251188924</td>\n",
       "      <td>Action / Adventure</td>\n",
       "      <td>Batman</td>\n",
       "      <td>35000000</td>\n",
       "      <td>PG-13</td>\n",
       "      <td>1989-06-23</td>\n",
       "      <td>126</td>\n",
       "      <td>2194</td>\n",
       "      <td>1</td>\n",
       "      <td>9.823036</td>\n",
       "      <td>0</td>\n",
       "      <td>0</td>\n",
       "      <td>1</td>\n",
       "      <td>0</td>\n",
       "    </tr>\n",
       "    <tr>\n",
       "      <th>86</th>\n",
       "      <td>Ben Stiller,Robin Williams,Steve Coogan,Owen W...</td>\n",
       "      <td>8258</td>\n",
       "      <td>Shawn Levy</td>\n",
       "      <td>30433781</td>\n",
       "      <td>250863268</td>\n",
       "      <td>Family Adventure</td>\n",
       "      <td>Night at the Museum</td>\n",
       "      <td>NaN</td>\n",
       "      <td>PG</td>\n",
       "      <td>2006-12-22</td>\n",
       "      <td>108</td>\n",
       "      <td>3685</td>\n",
       "      <td>1</td>\n",
       "      <td>9.018938</td>\n",
       "      <td>0</td>\n",
       "      <td>1</td>\n",
       "      <td>0</td>\n",
       "      <td>0</td>\n",
       "    </tr>\n",
       "    <tr>\n",
       "      <th>87</th>\n",
       "      <td>Tommy Lee Jones,Will Smith</td>\n",
       "      <td>16910</td>\n",
       "      <td>Barry Sonnenfeld</td>\n",
       "      <td>51068455</td>\n",
       "      <td>250690539</td>\n",
       "      <td>Sci-Fi Comedy</td>\n",
       "      <td>Men in Black</td>\n",
       "      <td>90000000</td>\n",
       "      <td>PG-13</td>\n",
       "      <td>1997-07-02</td>\n",
       "      <td>97</td>\n",
       "      <td>3020</td>\n",
       "      <td>1</td>\n",
       "      <td>9.735660</td>\n",
       "      <td>0</td>\n",
       "      <td>0</td>\n",
       "      <td>1</td>\n",
       "      <td>0</td>\n",
       "    </tr>\n",
       "    <tr>\n",
       "      <th>88</th>\n",
       "      <td>Daniel Radcliffe,Emma Watson,Rupert Grint,Alan...</td>\n",
       "      <td>24302</td>\n",
       "      <td>Alfonso Cuaron</td>\n",
       "      <td>93687367</td>\n",
       "      <td>249541069</td>\n",
       "      <td>Fantasy</td>\n",
       "      <td>Harry Potter and the Prisoner of Azkaban</td>\n",
       "      <td>130000000</td>\n",
       "      <td>PG</td>\n",
       "      <td>2004-06-04</td>\n",
       "      <td>142</td>\n",
       "      <td>3855</td>\n",
       "      <td>1</td>\n",
       "      <td>10.098314</td>\n",
       "      <td>0</td>\n",
       "      <td>1</td>\n",
       "      <td>0</td>\n",
       "      <td>0</td>\n",
       "    </tr>\n",
       "    <tr>\n",
       "      <th>89</th>\n",
       "      <td>Harrison Ford,Alfred Molina</td>\n",
       "      <td>7704</td>\n",
       "      <td>Steven Spielberg</td>\n",
       "      <td>8305823</td>\n",
       "      <td>212222025</td>\n",
       "      <td>Period Adventure</td>\n",
       "      <td>Raiders of the Lost Ark</td>\n",
       "      <td>18000000</td>\n",
       "      <td>PG</td>\n",
       "      <td>1981-06-12</td>\n",
       "      <td>115</td>\n",
       "      <td>1078</td>\n",
       "      <td>1</td>\n",
       "      <td>8.949495</td>\n",
       "      <td>0</td>\n",
       "      <td>1</td>\n",
       "      <td>0</td>\n",
       "      <td>0</td>\n",
       "    </tr>\n",
       "    <tr>\n",
       "      <th>90</th>\n",
       "      <td>Tom Hanks,Tim Allen,Kelsey Grammer</td>\n",
       "      <td>NaN</td>\n",
       "      <td>John Lasseter,Lee Unkrich</td>\n",
       "      <td>NaN</td>\n",
       "      <td>245852179</td>\n",
       "      <td>Animation</td>\n",
       "      <td>Toy Story 2</td>\n",
       "      <td>90000000</td>\n",
       "      <td>G</td>\n",
       "      <td>1999-11-19</td>\n",
       "      <td>92</td>\n",
       "      <td>NaN</td>\n",
       "      <td>1</td>\n",
       "      <td>NaN</td>\n",
       "      <td>1</td>\n",
       "      <td>0</td>\n",
       "      <td>0</td>\n",
       "      <td>0</td>\n",
       "    </tr>\n",
       "    <tr>\n",
       "      <th>91</th>\n",
       "      <td>Mark Wahlberg,Stanley Tucci,Kelsey Grammer</td>\n",
       "      <td>23633</td>\n",
       "      <td>Michael Bay</td>\n",
       "      <td>100038390</td>\n",
       "      <td>245439076</td>\n",
       "      <td>Sci-Fi Action</td>\n",
       "      <td>Transformers: Age of Extinction</td>\n",
       "      <td>210000000</td>\n",
       "      <td>PG-13</td>\n",
       "      <td>2014-06-27</td>\n",
       "      <td>165</td>\n",
       "      <td>4233</td>\n",
       "      <td>1</td>\n",
       "      <td>10.070399</td>\n",
       "      <td>0</td>\n",
       "      <td>0</td>\n",
       "      <td>1</td>\n",
       "      <td>0</td>\n",
       "    </tr>\n",
       "    <tr>\n",
       "      <th>92</th>\n",
       "      <td>Owen Wilson,Paul Newman,Bonnie Hunt,Larry the ...</td>\n",
       "      <td>15086</td>\n",
       "      <td>John Lasseter</td>\n",
       "      <td>60119509</td>\n",
       "      <td>244082982</td>\n",
       "      <td>Animation</td>\n",
       "      <td>Cars</td>\n",
       "      <td>120000000</td>\n",
       "      <td>G</td>\n",
       "      <td>2006-06-09</td>\n",
       "      <td>116</td>\n",
       "      <td>3985</td>\n",
       "      <td>1</td>\n",
       "      <td>9.621522</td>\n",
       "      <td>1</td>\n",
       "      <td>0</td>\n",
       "      <td>0</td>\n",
       "      <td>0</td>\n",
       "    </tr>\n",
       "    <tr>\n",
       "      <th>93</th>\n",
       "      <td>Jim Carrey,Morgan Freeman,Jennifer Aniston,Ste...</td>\n",
       "      <td>19510</td>\n",
       "      <td>Tom Shadyac</td>\n",
       "      <td>67953330</td>\n",
       "      <td>242829261</td>\n",
       "      <td>Fantasy Comedy</td>\n",
       "      <td>Bruce Almighty</td>\n",
       "      <td>81000000</td>\n",
       "      <td>PG-13</td>\n",
       "      <td>2003-05-23</td>\n",
       "      <td>101</td>\n",
       "      <td>3483</td>\n",
       "      <td>1</td>\n",
       "      <td>9.878682</td>\n",
       "      <td>0</td>\n",
       "      <td>0</td>\n",
       "      <td>1</td>\n",
       "      <td>0</td>\n",
       "    </tr>\n",
       "    <tr>\n",
       "      <th>94</th>\n",
       "      <td>Bill Murray,Sigourney Weaver</td>\n",
       "      <td>10140</td>\n",
       "      <td>Ivan Reitman</td>\n",
       "      <td>13578151</td>\n",
       "      <td>229242989</td>\n",
       "      <td>Horror Comedy</td>\n",
       "      <td>Ghostbusters</td>\n",
       "      <td>30000000</td>\n",
       "      <td>PG</td>\n",
       "      <td>1984-06-08</td>\n",
       "      <td>107</td>\n",
       "      <td>1339</td>\n",
       "      <td>1</td>\n",
       "      <td>9.224243</td>\n",
       "      <td>0</td>\n",
       "      <td>1</td>\n",
       "      <td>0</td>\n",
       "      <td>0</td>\n",
       "    </tr>\n",
       "    <tr>\n",
       "      <th>95</th>\n",
       "      <td>Helen Hunt,Cary Elwes,Philip Seymour Hoffman,A...</td>\n",
       "      <td>17008</td>\n",
       "      <td>Jan DeBont</td>\n",
       "      <td>41059405</td>\n",
       "      <td>241721524</td>\n",
       "      <td>Action Drama</td>\n",
       "      <td>Twister</td>\n",
       "      <td>92000000</td>\n",
       "      <td>PG-13</td>\n",
       "      <td>1996-05-10</td>\n",
       "      <td>113</td>\n",
       "      <td>2414</td>\n",
       "      <td>1</td>\n",
       "      <td>9.741439</td>\n",
       "      <td>0</td>\n",
       "      <td>0</td>\n",
       "      <td>1</td>\n",
       "      <td>0</td>\n",
       "    </tr>\n",
       "    <tr>\n",
       "      <th>96</th>\n",
       "      <td>John Corbett,Nia Vardalos</td>\n",
       "      <td>NaN</td>\n",
       "      <td>Jan DeBont</td>\n",
       "      <td>NaN</td>\n",
       "      <td>241438208</td>\n",
       "      <td>Romantic Comedy</td>\n",
       "      <td>My Big Fat Greek Wedding</td>\n",
       "      <td>5000000</td>\n",
       "      <td>PG</td>\n",
       "      <td>2002-04-19</td>\n",
       "      <td>95</td>\n",
       "      <td>NaN</td>\n",
       "      <td>1</td>\n",
       "      <td>NaN</td>\n",
       "      <td>0</td>\n",
       "      <td>1</td>\n",
       "      <td>0</td>\n",
       "      <td>0</td>\n",
       "    </tr>\n",
       "    <tr>\n",
       "      <th>97</th>\n",
       "      <td>Angelina Jolie,Sharlto Copley,Imelda Staunton,...</td>\n",
       "      <td>17586</td>\n",
       "      <td>Robert Stromberg</td>\n",
       "      <td>69431298</td>\n",
       "      <td>241410378</td>\n",
       "      <td>Fantasy</td>\n",
       "      <td>Maleficent</td>\n",
       "      <td>180000000</td>\n",
       "      <td>PG</td>\n",
       "      <td>2014-05-30</td>\n",
       "      <td>97</td>\n",
       "      <td>3948</td>\n",
       "      <td>1</td>\n",
       "      <td>9.774858</td>\n",
       "      <td>0</td>\n",
       "      <td>1</td>\n",
       "      <td>0</td>\n",
       "      <td>0</td>\n",
       "    </tr>\n",
       "    <tr>\n",
       "      <th>98</th>\n",
       "      <td>Johnny Depp,Penelope Cruz,Geoffrey Rush</td>\n",
       "      <td>21697</td>\n",
       "      <td>Rob Marshall</td>\n",
       "      <td>90151958</td>\n",
       "      <td>241071802</td>\n",
       "      <td>Period Adventure</td>\n",
       "      <td>Pirates of the Caribbean: On Stranger Tides</td>\n",
       "      <td>250000000</td>\n",
       "      <td>PG-13</td>\n",
       "      <td>2011-05-20</td>\n",
       "      <td>137</td>\n",
       "      <td>4155</td>\n",
       "      <td>1</td>\n",
       "      <td>9.984929</td>\n",
       "      <td>0</td>\n",
       "      <td>0</td>\n",
       "      <td>1</td>\n",
       "      <td>0</td>\n",
       "    </tr>\n",
       "    <tr>\n",
       "      <th>99</th>\n",
       "      <td>Mike Myers,Eddie Murphy,Cameron Diaz,Antonio B...</td>\n",
       "      <td>16251</td>\n",
       "      <td>Mike Mitchell</td>\n",
       "      <td>70838207</td>\n",
       "      <td>238736787</td>\n",
       "      <td>Animation</td>\n",
       "      <td>Shrek Forever After</td>\n",
       "      <td>165000000</td>\n",
       "      <td>PG</td>\n",
       "      <td>2010-05-21</td>\n",
       "      <td>93</td>\n",
       "      <td>4359</td>\n",
       "      <td>1</td>\n",
       "      <td>9.695910</td>\n",
       "      <td>0</td>\n",
       "      <td>1</td>\n",
       "      <td>0</td>\n",
       "      <td>0</td>\n",
       "    </tr>\n",
       "  </tbody>\n",
       "</table>\n",
       "</div>"
      ],
      "text/plain": [
       "                                               Actors  AveDPT  \\\n",
       "80                                         Will Smith   21411   \n",
       "81            Sandra Bullock,Kathy Bates,Lily Collins   10971   \n",
       "82  Ian McKellen,Orlando Bloom,Evangeline Lilly,Ca...   14122   \n",
       "83  Bradley Cooper,Ed Helms,Zach Galifianakis,Just...   23775   \n",
       "84  Steve Carell,Jason Segel,Russell Brand,Kristen...   16225   \n",
       "85         Jack Nicholson,Michael Keaton,Kim Basinger   18454   \n",
       "86  Ben Stiller,Robin Williams,Steve Coogan,Owen W...    8258   \n",
       "87                         Tommy Lee Jones,Will Smith   16910   \n",
       "88  Daniel Radcliffe,Emma Watson,Rupert Grint,Alan...   24302   \n",
       "89                        Harrison Ford,Alfred Molina    7704   \n",
       "90                 Tom Hanks,Tim Allen,Kelsey Grammer     NaN   \n",
       "91         Mark Wahlberg,Stanley Tucci,Kelsey Grammer   23633   \n",
       "92  Owen Wilson,Paul Newman,Bonnie Hunt,Larry the ...   15086   \n",
       "93  Jim Carrey,Morgan Freeman,Jennifer Aniston,Ste...   19510   \n",
       "94                       Bill Murray,Sigourney Weaver   10140   \n",
       "95  Helen Hunt,Cary Elwes,Philip Seymour Hoffman,A...   17008   \n",
       "96                          John Corbett,Nia Vardalos     NaN   \n",
       "97  Angelina Jolie,Sharlto Copley,Imelda Staunton,...   17586   \n",
       "98            Johnny Depp,Penelope Cruz,Geoffrey Rush   21697   \n",
       "99  Mike Myers,Eddie Murphy,Cameron Diaz,Antonio B...   16251   \n",
       "\n",
       "                     Directors  DomesticOpeningWeekend  DomesticTotalGross  \\\n",
       "80            Francis Lawrence                77211321           256393010   \n",
       "81            John Lee Hancock                34119372           255959475   \n",
       "82               Peter Jackson                54724334           255119788   \n",
       "83               Todd Phillips                85946294           254464305   \n",
       "84  Pierre Coffin,Chris Renaud                56397125           251513985   \n",
       "85                  Tim Burton                40489746           251188924   \n",
       "86                  Shawn Levy                30433781           250863268   \n",
       "87            Barry Sonnenfeld                51068455           250690539   \n",
       "88              Alfonso Cuaron                93687367           249541069   \n",
       "89            Steven Spielberg                 8305823           212222025   \n",
       "90   John Lasseter,Lee Unkrich                     NaN           245852179   \n",
       "91                 Michael Bay               100038390           245439076   \n",
       "92               John Lasseter                60119509           244082982   \n",
       "93                 Tom Shadyac                67953330           242829261   \n",
       "94                Ivan Reitman                13578151           229242989   \n",
       "95                  Jan DeBont                41059405           241721524   \n",
       "96                  Jan DeBont                     NaN           241438208   \n",
       "97            Robert Stromberg                69431298           241410378   \n",
       "98                Rob Marshall                90151958           241071802   \n",
       "99               Mike Mitchell                70838207           238736787   \n",
       "\n",
       "                 Genre                                   MovieTitle  \\\n",
       "80       Sci-Fi Horror                                  I Am Legend   \n",
       "81        Sports Drama                               The Blind Side   \n",
       "82             Fantasy    The Hobbit: The Battle of the Five Armies   \n",
       "83              Comedy                         The Hangover Part II   \n",
       "84           Animation                                Despicable Me   \n",
       "85  Action / Adventure                                       Batman   \n",
       "86    Family Adventure                          Night at the Museum   \n",
       "87       Sci-Fi Comedy                                 Men in Black   \n",
       "88             Fantasy     Harry Potter and the Prisoner of Azkaban   \n",
       "89    Period Adventure                      Raiders of the Lost Ark   \n",
       "90           Animation                                  Toy Story 2   \n",
       "91       Sci-Fi Action              Transformers: Age of Extinction   \n",
       "92           Animation                                         Cars   \n",
       "93      Fantasy Comedy                               Bruce Almighty   \n",
       "94       Horror Comedy                                 Ghostbusters   \n",
       "95        Action Drama                                      Twister   \n",
       "96     Romantic Comedy                     My Big Fat Greek Wedding   \n",
       "97             Fantasy                                   Maleficent   \n",
       "98    Period Adventure  Pirates of the Caribbean: On Stranger Tides   \n",
       "99           Animation                          Shrek Forever After   \n",
       "\n",
       "    ProductionBudget Rating ReleaseDate  Runtime  Theaters  Ones  LogAveDPT  \\\n",
       "80         150000000  PG-13  2007-12-14      100      3606     1   9.971660   \n",
       "81          29000000  PG-13  2009-11-20      126      3110     1   9.303011   \n",
       "82               NaN  PG-13  2014-12-17      144      3875     1   9.555489   \n",
       "83          80000000      R  2011-05-26      102      3615     1  10.076390   \n",
       "84          69000000     PG  2010-07-09       95      3476     1   9.694309   \n",
       "85          35000000  PG-13  1989-06-23      126      2194     1   9.823036   \n",
       "86               NaN     PG  2006-12-22      108      3685     1   9.018938   \n",
       "87          90000000  PG-13  1997-07-02       97      3020     1   9.735660   \n",
       "88         130000000     PG  2004-06-04      142      3855     1  10.098314   \n",
       "89          18000000     PG  1981-06-12      115      1078     1   8.949495   \n",
       "90          90000000      G  1999-11-19       92       NaN     1        NaN   \n",
       "91         210000000  PG-13  2014-06-27      165      4233     1  10.070399   \n",
       "92         120000000      G  2006-06-09      116      3985     1   9.621522   \n",
       "93          81000000  PG-13  2003-05-23      101      3483     1   9.878682   \n",
       "94          30000000     PG  1984-06-08      107      1339     1   9.224243   \n",
       "95          92000000  PG-13  1996-05-10      113      2414     1   9.741439   \n",
       "96           5000000     PG  2002-04-19       95       NaN     1        NaN   \n",
       "97         180000000     PG  2014-05-30       97      3948     1   9.774858   \n",
       "98         250000000  PG-13  2011-05-20      137      4155     1   9.984929   \n",
       "99         165000000     PG  2010-05-21       93      4359     1   9.695910   \n",
       "\n",
       "    G  PG  PG-13  R  \n",
       "80  0   0      1  0  \n",
       "81  0   0      1  0  \n",
       "82  0   0      1  0  \n",
       "83  0   0      0  1  \n",
       "84  0   1      0  0  \n",
       "85  0   0      1  0  \n",
       "86  0   1      0  0  \n",
       "87  0   0      1  0  \n",
       "88  0   1      0  0  \n",
       "89  0   1      0  0  \n",
       "90  1   0      0  0  \n",
       "91  0   0      1  0  \n",
       "92  1   0      0  0  \n",
       "93  0   0      1  0  \n",
       "94  0   1      0  0  \n",
       "95  0   0      1  0  \n",
       "96  0   1      0  0  \n",
       "97  0   1      0  0  \n",
       "98  0   0      1  0  \n",
       "99  0   1      0  0  "
      ]
     },
     "execution_count": 2,
     "metadata": {},
     "output_type": "execute_result"
    }
   ],
   "source": [
    "movies_df = pd.read_csv(\"movies100.txt\",sep=\",\",header=0, index_col=0)\n",
    "movies_df['Ones'] = 1   # need to add for OLS, intercept\n",
    "movies_df['LogAveDPT'] = np.log(movies_df['AveDPT'])\n",
    "movies_df = pd.concat([movies_df, pd.get_dummies(movies_df['Rating'])], axis=1)\n",
    "movies_df.tail(20)"
   ]
  },
  {
   "cell_type": "code",
   "execution_count": 3,
   "metadata": {
    "collapsed": false
   },
   "outputs": [
    {
     "data": {
      "image/png": "[encoded data removed]",
      "text/plain": [
       "<matplotlib.figure.Figure at 0x106d62850>"
      ]
     },
     "metadata": {},
     "output_type": "display_data"
    }
   ],
   "source": [
    "movies_df['DomesticTotalGross'].hist()\n",
    "plt.title('Revenues')\n",
    "plt.xlabel('Domestic Total Gross (USD)')\n",
    "plt.ylabel('Number of Movies')\n",
    "plt.show()\n",
    "\n"
   ]
  },
  {
   "cell_type": "code",
   "execution_count": 4,
   "metadata": {
    "collapsed": false
   },
   "outputs": [
    {
     "data": {
      "image/png": "[encoded data removed]",
      "text/plain": [
       "<matplotlib.figure.Figure at 0x106ebb9d0>"
      ]
     },
     "metadata": {},
     "output_type": "display_data"
    }
   ],
   "source": [
    "movies_df['AveDPT'].hist()\n",
    "plt.title('Movies by Opening Weekend Revenue per Theater')\n",
    "plt.xlabel('Opening Weekend Revenue per Theater (USD)')\n",
    "plt.ylabel('Number of Movies')\n",
    "plt.show()"
   ]
  },
  {
   "cell_type": "code",
   "execution_count": 5,
   "metadata": {
    "collapsed": false
   },
   "outputs": [
    {
     "data": {
      "text/plain": [
       "<matplotlib.text.Text at 0x106ebbd90>"
      ]
     },
     "execution_count": 5,
     "metadata": {},
     "output_type": "execute_result"
    },
    {
     "data": {
      "image/png": "[encoded data removed]",
      "text/plain": [
       "<matplotlib.figure.Figure at 0x106da7190>"
      ]
     },
     "metadata": {},
     "output_type": "display_data"
    }
   ],
   "source": [
    "movies_df['LogAveDPT'].hist()\n",
    "plt.title(\"Movies by Opening Weekend Revenue per Theater\")\n",
    "plt.xlabel(\"Log of Average of Openning Revenue per Theater\")\n",
    "plt.ylabel(\"Number of Movies\")"
   ]
  },
  {
   "cell_type": "code",
   "execution_count": 6,
   "metadata": {
    "collapsed": false
   },
   "outputs": [
    {
     "data": {
      "text/html": [
       "<div style=\"max-height:1000px;max-width:1500px;overflow:auto;\">\n",
       "<table border=\"1\" class=\"dataframe\">\n",
       "  <thead>\n",
       "    <tr style=\"text-align: right;\">\n",
       "      <th></th>\n",
       "      <th>Actors</th>\n",
       "      <th>AveDPT</th>\n",
       "      <th>Directors</th>\n",
       "      <th>DomesticOpeningWeekend</th>\n",
       "      <th>DomesticTotalGross</th>\n",
       "      <th>Genre</th>\n",
       "      <th>MovieTitle</th>\n",
       "      <th>ProductionBudget</th>\n",
       "      <th>Rating</th>\n",
       "      <th>ReleaseDate</th>\n",
       "      <th>Runtime</th>\n",
       "      <th>Theaters</th>\n",
       "      <th>Ones</th>\n",
       "      <th>LogAveDPT</th>\n",
       "      <th>G</th>\n",
       "      <th>PG</th>\n",
       "      <th>PG-13</th>\n",
       "      <th>R</th>\n",
       "    </tr>\n",
       "  </thead>\n",
       "  <tbody>\n",
       "    <tr>\n",
       "      <th>1</th>\n",
       "      <td>Leonardo DiCaprio,Kate Winslet,Kathy Bates,Ioa...</td>\n",
       "      <td>10710</td>\n",
       "      <td>James Cameron</td>\n",
       "      <td>28638131</td>\n",
       "      <td>600788188</td>\n",
       "      <td>Romance</td>\n",
       "      <td>Titanic</td>\n",
       "      <td>200000000</td>\n",
       "      <td>PG-13</td>\n",
       "      <td>1997-12-19</td>\n",
       "      <td>194</td>\n",
       "      <td>2674</td>\n",
       "      <td>1</td>\n",
       "      <td>9.278933</td>\n",
       "      <td>0</td>\n",
       "      <td>0</td>\n",
       "      <td>1</td>\n",
       "      <td>0</td>\n",
       "    </tr>\n",
       "    <tr>\n",
       "      <th>2</th>\n",
       "      <td>Robert Downey, Jr.,Chris Hemsworth,Chris Evans...</td>\n",
       "      <td>47698</td>\n",
       "      <td>Joss Whedon</td>\n",
       "      <td>207438708</td>\n",
       "      <td>623357910</td>\n",
       "      <td>Action / Adventure</td>\n",
       "      <td>Marvel's The Avengers</td>\n",
       "      <td>220000000</td>\n",
       "      <td>PG-13</td>\n",
       "      <td>2012-05-04</td>\n",
       "      <td>142</td>\n",
       "      <td>4349</td>\n",
       "      <td>1</td>\n",
       "      <td>10.772645</td>\n",
       "      <td>0</td>\n",
       "      <td>0</td>\n",
       "      <td>1</td>\n",
       "      <td>0</td>\n",
       "    </tr>\n",
       "    <tr>\n",
       "      <th>3</th>\n",
       "      <td>Christian Bale,Heath Ledger,Aaron Eckhart,Morg...</td>\n",
       "      <td>36283</td>\n",
       "      <td>Christopher Nolan</td>\n",
       "      <td>158411483</td>\n",
       "      <td>533345358</td>\n",
       "      <td>Action / Adventure</td>\n",
       "      <td>The Dark Knight</td>\n",
       "      <td>185000000</td>\n",
       "      <td>PG-13</td>\n",
       "      <td>2008-07-18</td>\n",
       "      <td>150</td>\n",
       "      <td>4366</td>\n",
       "      <td>1</td>\n",
       "      <td>10.499105</td>\n",
       "      <td>0</td>\n",
       "      <td>0</td>\n",
       "      <td>1</td>\n",
       "      <td>0</td>\n",
       "    </tr>\n",
       "    <tr>\n",
       "      <th>4</th>\n",
       "      <td>Liam Neeson,Ewan McGregor,Natalie Portman,Samu...</td>\n",
       "      <td>21825</td>\n",
       "      <td>George Lucas</td>\n",
       "      <td>64820970</td>\n",
       "      <td>431088295</td>\n",
       "      <td>Sci-Fi Fantasy</td>\n",
       "      <td>Star Wars: Episode I - The Phantom Menace</td>\n",
       "      <td>115000000</td>\n",
       "      <td>PG</td>\n",
       "      <td>1999-05-19</td>\n",
       "      <td>133</td>\n",
       "      <td>2970</td>\n",
       "      <td>1</td>\n",
       "      <td>9.990811</td>\n",
       "      <td>0</td>\n",
       "      <td>1</td>\n",
       "      <td>0</td>\n",
       "      <td>0</td>\n",
       "    </tr>\n",
       "    <tr>\n",
       "      <th>6</th>\n",
       "      <td>Christian Bale,Michael Caine,Anne Hathaway,Tom...</td>\n",
       "      <td>36532</td>\n",
       "      <td>Christopher Nolan</td>\n",
       "      <td>160887295</td>\n",
       "      <td>448139099</td>\n",
       "      <td>Action Thriller</td>\n",
       "      <td>The Dark Knight Rises</td>\n",
       "      <td>250000000</td>\n",
       "      <td>PG-13</td>\n",
       "      <td>2012-07-20</td>\n",
       "      <td>165</td>\n",
       "      <td>4404</td>\n",
       "      <td>1</td>\n",
       "      <td>10.505944</td>\n",
       "      <td>0</td>\n",
       "      <td>0</td>\n",
       "      <td>1</td>\n",
       "      <td>0</td>\n",
       "    </tr>\n",
       "    <tr>\n",
       "      <th>7</th>\n",
       "      <td>Mike Myers,Cameron Diaz,Eddie Murphy,Antonio B...</td>\n",
       "      <td>25951</td>\n",
       "      <td>Andrew Adamson,Kelly Asbury,Conrad Vernon</td>\n",
       "      <td>108037878</td>\n",
       "      <td>441226247</td>\n",
       "      <td>Animation</td>\n",
       "      <td>Shrek 2</td>\n",
       "      <td>150000000</td>\n",
       "      <td>PG</td>\n",
       "      <td>2004-05-19</td>\n",
       "      <td>93</td>\n",
       "      <td>4163</td>\n",
       "      <td>1</td>\n",
       "      <td>10.163965</td>\n",
       "      <td>0</td>\n",
       "      <td>1</td>\n",
       "      <td>0</td>\n",
       "      <td>0</td>\n",
       "    </tr>\n",
       "    <tr>\n",
       "      <th>8</th>\n",
       "      <td>Drew Barrymore</td>\n",
       "      <td>10730</td>\n",
       "      <td>Steven Spielberg</td>\n",
       "      <td>11835389</td>\n",
       "      <td>359197037</td>\n",
       "      <td>Family Adventure</td>\n",
       "      <td>E.T.: The Extra-Terrestrial</td>\n",
       "      <td>10500000</td>\n",
       "      <td>PG</td>\n",
       "      <td>1982-06-11</td>\n",
       "      <td>117</td>\n",
       "      <td>1103</td>\n",
       "      <td>1</td>\n",
       "      <td>9.280799</td>\n",
       "      <td>0</td>\n",
       "      <td>1</td>\n",
       "      <td>0</td>\n",
       "      <td>0</td>\n",
       "    </tr>\n",
       "    <tr>\n",
       "      <th>9</th>\n",
       "      <td>Jennifer Lawrence,Josh Hutcherson,Liam Hemswor...</td>\n",
       "      <td>37971</td>\n",
       "      <td>Francis Lawrence</td>\n",
       "      <td>158074286</td>\n",
       "      <td>424668047</td>\n",
       "      <td>Action / Adventure</td>\n",
       "      <td>The Hunger Games: Catching Fire</td>\n",
       "      <td>130000000</td>\n",
       "      <td>PG-13</td>\n",
       "      <td>2013-11-22</td>\n",
       "      <td>146</td>\n",
       "      <td>4163</td>\n",
       "      <td>1</td>\n",
       "      <td>10.544578</td>\n",
       "      <td>0</td>\n",
       "      <td>0</td>\n",
       "      <td>1</td>\n",
       "      <td>0</td>\n",
       "    </tr>\n",
       "    <tr>\n",
       "      <th>10</th>\n",
       "      <td>Johnny Depp,Orlando Bloom,Keira Knightley,Jack...</td>\n",
       "      <td>32817</td>\n",
       "      <td>Gore Verbinski</td>\n",
       "      <td>135634554</td>\n",
       "      <td>423315812</td>\n",
       "      <td>Period Adventure</td>\n",
       "      <td>Pirates of the Caribbean: Dead Man's Chest</td>\n",
       "      <td>225000000</td>\n",
       "      <td>PG-13</td>\n",
       "      <td>2006-07-07</td>\n",
       "      <td>151</td>\n",
       "      <td>4133</td>\n",
       "      <td>1</td>\n",
       "      <td>10.398702</td>\n",
       "      <td>0</td>\n",
       "      <td>0</td>\n",
       "      <td>1</td>\n",
       "      <td>0</td>\n",
       "    </tr>\n",
       "    <tr>\n",
       "      <th>12</th>\n",
       "      <td>Tom Hanks,Michael Keaton,Tim Allen,Bonnie Hunt...</td>\n",
       "      <td>27385</td>\n",
       "      <td>Lee Unkrich</td>\n",
       "      <td>110307189</td>\n",
       "      <td>415004880</td>\n",
       "      <td>Animation</td>\n",
       "      <td>Toy Story 3</td>\n",
       "      <td>200000000</td>\n",
       "      <td>G</td>\n",
       "      <td>2010-06-18</td>\n",
       "      <td>103</td>\n",
       "      <td>4028</td>\n",
       "      <td>1</td>\n",
       "      <td>10.217751</td>\n",
       "      <td>1</td>\n",
       "      <td>0</td>\n",
       "      <td>0</td>\n",
       "      <td>0</td>\n",
       "    </tr>\n",
       "  </tbody>\n",
       "</table>\n",
       "</div>"
      ],
      "text/plain": [
       "                                               Actors  AveDPT  \\\n",
       "1   Leonardo DiCaprio,Kate Winslet,Kathy Bates,Ioa...   10710   \n",
       "2   Robert Downey, Jr.,Chris Hemsworth,Chris Evans...   47698   \n",
       "3   Christian Bale,Heath Ledger,Aaron Eckhart,Morg...   36283   \n",
       "4   Liam Neeson,Ewan McGregor,Natalie Portman,Samu...   21825   \n",
       "6   Christian Bale,Michael Caine,Anne Hathaway,Tom...   36532   \n",
       "7   Mike Myers,Cameron Diaz,Eddie Murphy,Antonio B...   25951   \n",
       "8                                      Drew Barrymore   10730   \n",
       "9   Jennifer Lawrence,Josh Hutcherson,Liam Hemswor...   37971   \n",
       "10  Johnny Depp,Orlando Bloom,Keira Knightley,Jack...   32817   \n",
       "12  Tom Hanks,Michael Keaton,Tim Allen,Bonnie Hunt...   27385   \n",
       "\n",
       "                                    Directors  DomesticOpeningWeekend  \\\n",
       "1                               James Cameron                28638131   \n",
       "2                                 Joss Whedon               207438708   \n",
       "3                           Christopher Nolan               158411483   \n",
       "4                                George Lucas                64820970   \n",
       "6                           Christopher Nolan               160887295   \n",
       "7   Andrew Adamson,Kelly Asbury,Conrad Vernon               108037878   \n",
       "8                            Steven Spielberg                11835389   \n",
       "9                            Francis Lawrence               158074286   \n",
       "10                             Gore Verbinski               135634554   \n",
       "12                                Lee Unkrich               110307189   \n",
       "\n",
       "    DomesticTotalGross               Genre  \\\n",
       "1            600788188             Romance   \n",
       "2            623357910  Action / Adventure   \n",
       "3            533345358  Action / Adventure   \n",
       "4            431088295      Sci-Fi Fantasy   \n",
       "6            448139099     Action Thriller   \n",
       "7            441226247           Animation   \n",
       "8            359197037    Family Adventure   \n",
       "9            424668047  Action / Adventure   \n",
       "10           423315812    Period Adventure   \n",
       "12           415004880           Animation   \n",
       "\n",
       "                                    MovieTitle  ProductionBudget Rating  \\\n",
       "1                                      Titanic         200000000  PG-13   \n",
       "2                        Marvel's The Avengers         220000000  PG-13   \n",
       "3                              The Dark Knight         185000000  PG-13   \n",
       "4    Star Wars: Episode I - The Phantom Menace         115000000     PG   \n",
       "6                        The Dark Knight Rises         250000000  PG-13   \n",
       "7                                      Shrek 2         150000000     PG   \n",
       "8                  E.T.: The Extra-Terrestrial          10500000     PG   \n",
       "9              The Hunger Games: Catching Fire         130000000  PG-13   \n",
       "10  Pirates of the Caribbean: Dead Man's Chest         225000000  PG-13   \n",
       "12                                 Toy Story 3         200000000      G   \n",
       "\n",
       "   ReleaseDate  Runtime  Theaters  Ones  LogAveDPT  G  PG  PG-13  R  \n",
       "1   1997-12-19      194      2674     1   9.278933  0   0      1  0  \n",
       "2   2012-05-04      142      4349     1  10.772645  0   0      1  0  \n",
       "3   2008-07-18      150      4366     1  10.499105  0   0      1  0  \n",
       "4   1999-05-19      133      2970     1   9.990811  0   1      0  0  \n",
       "6   2012-07-20      165      4404     1  10.505944  0   0      1  0  \n",
       "7   2004-05-19       93      4163     1  10.163965  0   1      0  0  \n",
       "8   1982-06-11      117      1103     1   9.280799  0   1      0  0  \n",
       "9   2013-11-22      146      4163     1  10.544578  0   0      1  0  \n",
       "10  2006-07-07      151      4133     1  10.398702  0   0      1  0  \n",
       "12  2010-06-18      103      4028     1  10.217751  1   0      0  0  "
      ]
     },
     "execution_count": 6,
     "metadata": {},
     "output_type": "execute_result"
    }
   ],
   "source": [
    "movies_without_AveDPT = movies_df[np.isnan(movies_df.AveDPT)]\n",
    "\n",
    "movies_with_AveDPT = movies_df.dropna()\n",
    "movies_with_AveDPT.head(10)\n",
    "#print type(movies_with_AveDPT)\n",
    "#plt.scatter(movies_df.AveDPT, movies_df.DomesticTotalGross)\n",
    "\n",
    "#plt.title('How does budget relate to final box office revenue?')\n",
    "#plt.xlabel('Opening Weekend Revenue per Theater (USD)')\n",
    "#plt.ylabel('Domestic Total Gross (USD)')\n"
   ]
  },
  {
   "cell_type": "code",
   "execution_count": 7,
   "metadata": {
    "collapsed": false
   },
   "outputs": [
    {
     "data": {
      "text/plain": [
       "66"
      ]
     },
     "execution_count": 7,
     "metadata": {},
     "output_type": "execute_result"
    }
   ],
   "source": [
    "# randomly dividing data set into testing and training sets\n",
    "msk = np.random.rand(len(movies_with_AveDPT)) < 0.75\n",
    "training = movies_with_AveDPT[msk]\n",
    "testing = movies_with_AveDPT[-msk]\n",
    "#len(movies_df)\n",
    "len(training)\n",
    "#training.head(20)"
   ]
  },
  {
   "cell_type": "code",
   "execution_count": 8,
   "metadata": {
    "collapsed": false
   },
   "outputs": [
    {
     "data": {
      "text/plain": [
       "64"
      ]
     },
     "execution_count": 8,
     "metadata": {},
     "output_type": "execute_result"
    },
    {
     "data": {
      "image/png": "[encoded data removed]",
      "text/plain": [
       "<matplotlib.figure.Figure at 0x10708d790>"
      ]
     },
     "metadata": {},
     "output_type": "display_data"
    }
   ],
   "source": [
    "# removing outliers\n",
    "removedDTG = (training[np.abs(training.DomesticTotalGross - training.DomesticTotalGross.mean())\n",
    "                         <= (3*training.DomesticTotalGross.std())])\n",
    "removedDTG = (removedDTG[np.abs(removedDTG.LogAveDPT - removedDTG.LogAveDPT.mean())\n",
    "                         <= (3*removedDTG.LogAveDPT.std())])\n",
    "removedDTG = (removedDTG[np.abs(removedDTG.Runtime - removedDTG.Runtime.mean())\n",
    "                         <= (3*removedDTG.Runtime.std())])\n",
    "plt.scatter(removedDTG['AveDPT'],removedDTG['DomesticTotalGross'])\n",
    "plt.xlabel('Opening Average per Theater (USD)')\n",
    "plt.ylabel('Domestic Total Gross (USD)')\n",
    "len(removedDTG)"
   ]
  },
  {
   "cell_type": "code",
   "execution_count": 9,
   "metadata": {
    "collapsed": false
   },
   "outputs": [
    {
     "name": "stdout",
     "output_type": "stream",
     "text": [
      "                            OLS Regression Results                            \n",
      "==============================================================================\n",
      "Dep. Variable:     DomesticTotalGross   R-squared:                       0.367\n",
      "Model:                            OLS   Adj. R-squared:                  0.357\n",
      "Method:                 Least Squares   F-statistic:                     35.92\n",
      "Date:                Thu, 23 Apr 2015   Prob (F-statistic):           1.14e-07\n",
      "Time:                        16:38:04   Log-Likelihood:                -1223.9\n",
      "No. Observations:                  64   AIC:                             2452.\n",
      "Df Residuals:                      62   BIC:                             2456.\n",
      "Df Model:                           1                                         \n",
      "Covariance Type:            nonrobust                                         \n",
      "==============================================================================\n",
      "                 coef    std err          t      P>|t|      [95.0% Conf. Int.]\n",
      "------------------------------------------------------------------------------\n",
      "LogAveDPT   1.067e+08   1.78e+07      5.993      0.000      7.11e+07  1.42e+08\n",
      "Ones       -7.522e+08   1.78e+08     -4.237      0.000     -1.11e+09 -3.97e+08\n",
      "==============================================================================\n",
      "Omnibus:                        5.427   Durbin-Watson:                   0.893\n",
      "Prob(Omnibus):                  0.066   Jarque-Bera (JB):                4.502\n",
      "Skew:                           0.596   Prob(JB):                        0.105\n",
      "Kurtosis:                       3.517   Cond. No.                         288.\n",
      "==============================================================================\n",
      "\n",
      "Warnings:\n",
      "[1] Standard Errors assume that the covariance matrix of the errors is correctly specified.\n"
     ]
    }
   ],
   "source": [
    "# testing Log of AveDPT\n",
    "X = removedDTG[['LogAveDPT','Ones']]\n",
    "Y = removedDTG['DomesticTotalGross']\n",
    "model_log = smf.OLS(Y,X).fit()\n",
    "print model_log.summary()"
   ]
  },
  {
   "cell_type": "code",
   "execution_count": 10,
   "metadata": {
    "collapsed": false
   },
   "outputs": [
    {
     "data": {
      "image/png": "[encoded data removed]",
      "text/plain": [
       "<matplotlib.figure.Figure at 0x107275a50>"
      ]
     },
     "metadata": {},
     "output_type": "display_data"
    }
   ],
   "source": [
    "plt.scatter(removedDTG['LogAveDPT'],removedDTG['DomesticTotalGross'])\n",
    "plt.title('Benchmark Model')\n",
    "plt.xlabel('Log of Opening Revenue per Theater (USD)')\n",
    "plt.ylabel('Domestic Total Gross (USD)')\n",
    "plt.plot(removedDTG['LogAveDPT'],model_log.predict(X),'r-')\n",
    "plt.savefig(\"LogAveDPT_fit.png\")\n"
   ]
  },
  {
   "cell_type": "code",
   "execution_count": 11,
   "metadata": {
    "collapsed": false
   },
   "outputs": [
    {
     "name": "stdout",
     "output_type": "stream",
     "text": [
      "17\n"
     ]
    },
    {
     "data": {
      "image/png": "[encoded data removed]",
      "text/plain": [
       "<matplotlib.figure.Figure at 0x1072b6290>"
      ]
     },
     "metadata": {},
     "output_type": "display_data"
    }
   ],
   "source": [
    "# the actual vs. the predicted values\n",
    "Yobs = testing['DomesticTotalGross']\n",
    "testInput = testing[['LogAveDPT','Ones']]\n",
    "predictedDTG = model_log.predict(testInput)\n",
    "print len(Yobs)\n",
    "plt.plot(Yobs, predictedDTG, 'go')\n",
    "\n",
    "plt.title('Predicted vs. Observed')\n",
    "plt.xlabel('Observed Domestic Total Gross (USD)')\n",
    "plt.ylabel('Predicted Domestic Total Gross (USD)')\n",
    "\n",
    "plt.plot(Yobs,Yobs, 'b--', label=\"Prediction\") \n",
    "#plt.plot(range(10))\n",
    "plt.savefig('LogAveDPT_test.png')"
   ]
  },
  {
   "cell_type": "code",
   "execution_count": 12,
   "metadata": {
    "collapsed": false
   },
   "outputs": [
    {
     "name": "stdout",
     "output_type": "stream",
     "text": [
      "                            OLS Regression Results                            \n",
      "==============================================================================\n",
      "Dep. Variable:     DomesticTotalGross   R-squared:                       0.387\n",
      "Model:                            OLS   Adj. R-squared:                  0.367\n",
      "Method:                 Least Squares   F-statistic:                     19.28\n",
      "Date:                Thu, 23 Apr 2015   Prob (F-statistic):           3.25e-07\n",
      "Time:                        16:38:40   Log-Likelihood:                -1222.9\n",
      "No. Observations:                  64   AIC:                             2452.\n",
      "Df Residuals:                      61   BIC:                             2458.\n",
      "Df Model:                           2                                         \n",
      "Covariance Type:            nonrobust                                         \n",
      "==============================================================================\n",
      "                 coef    std err          t      P>|t|      [95.0% Conf. Int.]\n",
      "------------------------------------------------------------------------------\n",
      "LogAveDPT   1.011e+08   1.81e+07      5.590      0.000       6.5e+07  1.37e+08\n",
      "Runtime     4.128e+05   2.89e+05      1.427      0.159     -1.65e+05  9.91e+05\n",
      "Ones       -7.491e+08   1.76e+08     -4.255      0.000      -1.1e+09 -3.97e+08\n",
      "==============================================================================\n",
      "Omnibus:                        7.033   Durbin-Watson:                   0.883\n",
      "Prob(Omnibus):                  0.030   Jarque-Bera (JB):                6.197\n",
      "Skew:                           0.678   Prob(JB):                       0.0451\n",
      "Kurtosis:                       3.698   Cond. No.                     3.73e+03\n",
      "==============================================================================\n",
      "\n",
      "Warnings:\n",
      "[1] Standard Errors assume that the covariance matrix of the errors is correctly specified.\n",
      "[2] The condition number is large, 3.73e+03. This might indicate that there are\n",
      "strong multicollinearity or other numerical problems.\n"
     ]
    }
   ],
   "source": [
    "# building more advanced model than just a banchmark\n",
    "X = removedDTG[['LogAveDPT','Runtime','Ones']]\n",
    "Y = removedDTG['DomesticTotalGross']\n",
    "adv_model = smf.OLS(Y,X).fit()\n",
    "print adv_model.summary()"
   ]
  },
  {
   "cell_type": "code",
   "execution_count": 14,
   "metadata": {
    "collapsed": false
   },
   "outputs": [
    {
     "data": {
      "image/png": "[encoded data removed]",
      "text/plain": [
       "<matplotlib.figure.Figure at 0x106e8dd10>"
      ]
     },
     "metadata": {},
     "output_type": "display_data"
    }
   ],
   "source": [
    "plt.scatter(removedDTG['LogAveDPT'],removedDTG['DomesticTotalGross'])\n",
    "plt.title('Proposed Model')\n",
    "plt.xlabel('Log of Opening Revenue per Theater (USD)')\n",
    "plt.ylabel('Domestic Total Gross (USD)')\n",
    "plt.plot(removedDTG['LogAveDPT'],adv_model.predict(X),'rs')\n",
    "plt.savefig(\"LogAveDPT_Runtime_fit.png\")"
   ]
  },
  {
   "cell_type": "code",
   "execution_count": 15,
   "metadata": {
    "collapsed": false
   },
   "outputs": [
    {
     "data": {
      "image/png": "[encoded data removed]",
      "text/plain": [
       "<matplotlib.figure.Figure at 0x10701c050>"
      ]
     },
     "metadata": {},
     "output_type": "display_data"
    }
   ],
   "source": [
    "# test the advance model on a testing set\n",
    "Yobs = testing['DomesticTotalGross']\n",
    "testInput = testing[['LogAveDPT','Runtime','Ones']]\n",
    "predDTG = adv_model.predict(testInput)\n",
    "plt.plot(Yobs,predDTG,'go')\n",
    "plt.title('Predicted vs. Observed')\n",
    "plt.xlabel('Observed Domestic Total Gross (USD)')\n",
    "plt.ylabel('Predicted Domestic Total Gross (USD)')\n",
    "\n",
    "plt.plot(Yobs,Yobs, 'b--', label=\"Prediction\") \n",
    "#plt.plot(range(10))\n",
    "plt.savefig(\"LogAveDPT_Runtime_test.png\")"
   ]
  },
  {
   "cell_type": "code",
   "execution_count": 17,
   "metadata": {
    "collapsed": false
   },
   "outputs": [
    {
     "data": {
      "text/plain": [
       "<matplotlib.text.Text at 0x107788b10>"
      ]
     },
     "execution_count": 17,
     "metadata": {},
     "output_type": "execute_result"
    },
    {
     "data": {
      "image/png": "[encoded data removed]",
      "text/plain": [
       "<matplotlib.figure.Figure at 0x106f3c510>"
      ]
     },
     "metadata": {},
     "output_type": "display_data"
    }
   ],
   "source": [
    "plt.scatter(removedDTG['ProductionBudget'],removedDTG['DomesticTotalGross'])\n",
    "plt.xlabel('Production Budget (USD)')\n",
    "plt.ylabel('DomesticTotalGross (USD)')\n"
   ]
  },
  {
   "cell_type": "code",
   "execution_count": null,
   "metadata": {
    "collapsed": true
   },
   "outputs": [],
   "source": [
    "# adding one more significant parameter"
   ]
  },
  {
   "cell_type": "code",
   "execution_count": 18,
   "metadata": {
    "collapsed": false
   },
   "outputs": [
    {
     "data": {
      "text/html": [
       "<table class=\"simpletable\">\n",
       "<caption>OLS Regression Results</caption>\n",
       "<tr>\n",
       "  <th>Dep. Variable:</th>    <td>DomesticTotalGross</td> <th>  R-squared:         </th> <td>   0.088</td>\n",
       "</tr>\n",
       "<tr>\n",
       "  <th>Model:</th>                    <td>OLS</td>        <th>  Adj. R-squared:    </th> <td>   0.073</td>\n",
       "</tr>\n",
       "<tr>\n",
       "  <th>Method:</th>              <td>Least Squares</td>   <th>  F-statistic:       </th> <td>   5.959</td>\n",
       "</tr>\n",
       "<tr>\n",
       "  <th>Date:</th>              <td>Thu, 23 Apr 2015</td>  <th>  Prob (F-statistic):</th>  <td>0.0175</td> \n",
       "</tr>\n",
       "<tr>\n",
       "  <th>Time:</th>                  <td>16:39:21</td>      <th>  Log-Likelihood:    </th> <td> -1235.6</td>\n",
       "</tr>\n",
       "<tr>\n",
       "  <th>No. Observations:</th>       <td>    64</td>       <th>  AIC:               </th> <td>   2475.</td>\n",
       "</tr>\n",
       "<tr>\n",
       "  <th>Df Residuals:</th>           <td>    62</td>       <th>  BIC:               </th> <td>   2480.</td>\n",
       "</tr>\n",
       "<tr>\n",
       "  <th>Df Model:</th>               <td>     1</td>       <th>                     </th>     <td> </td>   \n",
       "</tr>\n",
       "<tr>\n",
       "  <th>Covariance Type:</th>       <td>nonrobust</td>     <th>                     </th>     <td> </td>   \n",
       "</tr>\n",
       "</table>\n",
       "<table class=\"simpletable\">\n",
       "<tr>\n",
       "          <td></td>            <th>coef</th>     <th>std err</th>      <th>t</th>      <th>P>|t|</th> <th>[95.0% Conf. Int.]</th> \n",
       "</tr>\n",
       "<tr>\n",
       "  <th>ProductionBudget</th> <td>    0.2753</td> <td>    0.113</td> <td>    2.441</td> <td> 0.018</td> <td>    0.050     0.501</td>\n",
       "</tr>\n",
       "<tr>\n",
       "  <th>Ones</th>             <td> 2.756e+08</td> <td> 1.63e+07</td> <td>   16.910</td> <td> 0.000</td> <td> 2.43e+08  3.08e+08</td>\n",
       "</tr>\n",
       "</table>\n",
       "<table class=\"simpletable\">\n",
       "<tr>\n",
       "  <th>Omnibus:</th>       <td>14.321</td> <th>  Durbin-Watson:     </th> <td>   0.223</td>\n",
       "</tr>\n",
       "<tr>\n",
       "  <th>Prob(Omnibus):</th> <td> 0.001</td> <th>  Jarque-Bera (JB):  </th> <td>  15.691</td>\n",
       "</tr>\n",
       "<tr>\n",
       "  <th>Skew:</th>          <td> 1.085</td> <th>  Prob(JB):          </th> <td>0.000392</td>\n",
       "</tr>\n",
       "<tr>\n",
       "  <th>Kurtosis:</th>      <td> 4.085</td> <th>  Cond. No.          </th> <td>3.16e+08</td>\n",
       "</tr>\n",
       "</table>"
      ],
      "text/plain": [
       "<class 'statsmodels.iolib.summary.Summary'>\n",
       "\"\"\"\n",
       "                            OLS Regression Results                            \n",
       "==============================================================================\n",
       "Dep. Variable:     DomesticTotalGross   R-squared:                       0.088\n",
       "Model:                            OLS   Adj. R-squared:                  0.073\n",
       "Method:                 Least Squares   F-statistic:                     5.959\n",
       "Date:                Thu, 23 Apr 2015   Prob (F-statistic):             0.0175\n",
       "Time:                        16:39:21   Log-Likelihood:                -1235.6\n",
       "No. Observations:                  64   AIC:                             2475.\n",
       "Df Residuals:                      62   BIC:                             2480.\n",
       "Df Model:                           1                                         \n",
       "Covariance Type:            nonrobust                                         \n",
       "====================================================================================\n",
       "                       coef    std err          t      P>|t|      [95.0% Conf. Int.]\n",
       "------------------------------------------------------------------------------------\n",
       "ProductionBudget     0.2753      0.113      2.441      0.018         0.050     0.501\n",
       "Ones              2.756e+08   1.63e+07     16.910      0.000      2.43e+08  3.08e+08\n",
       "==============================================================================\n",
       "Omnibus:                       14.321   Durbin-Watson:                   0.223\n",
       "Prob(Omnibus):                  0.001   Jarque-Bera (JB):               15.691\n",
       "Skew:                           1.085   Prob(JB):                     0.000392\n",
       "Kurtosis:                       4.085   Cond. No.                     3.16e+08\n",
       "==============================================================================\n",
       "\n",
       "Warnings:\n",
       "[1] Standard Errors assume that the covariance matrix of the errors is correctly specified.\n",
       "[2] The condition number is large, 3.16e+08. This might indicate that there are\n",
       "strong multicollinearity or other numerical problems.\n",
       "\"\"\""
      ]
     },
     "execution_count": 18,
     "metadata": {},
     "output_type": "execute_result"
    }
   ],
   "source": [
    "# model for budget itself\n",
    "X = removedDTG[['ProductionBudget','Ones']]\n",
    "Y = removedDTG['DomesticTotalGross']\n",
    "\n",
    "# OLS = ordinary least squares\n",
    "lmodel = smf.OLS(Y,X).fit()\n",
    "lmodel.summary()"
   ]
  },
  {
   "cell_type": "code",
   "execution_count": 33,
   "metadata": {
    "collapsed": false
   },
   "outputs": [
    {
     "data": {
      "image/png": "[encoded data removed]",
      "text/plain": [
       "<matplotlib.figure.Figure at 0x1081a7f50>"
      ]
     },
     "metadata": {},
     "output_type": "display_data"
    }
   ],
   "source": [
    "plt.scatter(removedDTG.ProductionBudget, removedDTG.DomesticTotalGross)\n",
    "plt.title('Domestic Total Gross vs. Production Budget')\n",
    "plt.xlabel('Production Budget (USD)')\n",
    "plt.ylabel('Domestic Total Gross (USD)')\n",
    "\n",
    "#plt.plot(removedDTG.ProductionBudget, lmodel.predict(X), 'r-')\n",
    "\n",
    "\n",
    "#plt.plot(range(10))\n",
    "plt.savefig('pl01_data.png')\n"
   ]
  },
  {
   "cell_type": "code",
   "execution_count": 20,
   "metadata": {
    "collapsed": false
   },
   "outputs": [
    {
     "name": "stdout",
     "output_type": "stream",
     "text": [
      "17\n"
     ]
    },
    {
     "data": {
      "image/png": "[encoded data removed]",
      "text/plain": [
       "<matplotlib.figure.Figure at 0x10731a110>"
      ]
     },
     "metadata": {},
     "output_type": "display_data"
    }
   ],
   "source": [
    "# the actual vs. the predicted values\n",
    "Yobs = testing['DomesticTotalGross']\n",
    "testInput = testing[['ProductionBudget','Ones']]\n",
    "predictedDTG = lmodel.predict(testInput)\n",
    "print len(Yobs)\n",
    "plt.plot(Yobs, predictedDTG, 'go')\n",
    "\n",
    "plt.title('Predicted vs. Observed')\n",
    "plt.xlabel('Observed Domestic Total Gross (USD)')\n",
    "plt.ylabel('Predicted Domestic Total Gross (USD)')\n",
    "\n",
    "plt.plot(Yobs,Yobs, 'b--', label=\"Prediction\") \n",
    "#plt.plot(range(10))\n",
    "plt.savefig('pl02.png')"
   ]
  },
  {
   "cell_type": "code",
   "execution_count": 21,
   "metadata": {
    "collapsed": false
   },
   "outputs": [
    {
     "data": {
      "text/html": [
       "<table class=\"simpletable\">\n",
       "<caption>OLS Regression Results</caption>\n",
       "<tr>\n",
       "  <th>Dep. Variable:</th>    <td>DomesticTotalGross</td> <th>  R-squared:         </th> <td>   0.408</td>\n",
       "</tr>\n",
       "<tr>\n",
       "  <th>Model:</th>                    <td>OLS</td>        <th>  Adj. R-squared:    </th> <td>   0.399</td>\n",
       "</tr>\n",
       "<tr>\n",
       "  <th>Method:</th>              <td>Least Squares</td>   <th>  F-statistic:       </th> <td>   42.81</td>\n",
       "</tr>\n",
       "<tr>\n",
       "  <th>Date:</th>              <td>Thu, 23 Apr 2015</td>  <th>  Prob (F-statistic):</th> <td>1.32e-08</td>\n",
       "</tr>\n",
       "<tr>\n",
       "  <th>Time:</th>                  <td>16:39:40</td>      <th>  Log-Likelihood:    </th> <td> -1221.7</td>\n",
       "</tr>\n",
       "<tr>\n",
       "  <th>No. Observations:</th>       <td>    64</td>       <th>  AIC:               </th> <td>   2447.</td>\n",
       "</tr>\n",
       "<tr>\n",
       "  <th>Df Residuals:</th>           <td>    62</td>       <th>  BIC:               </th> <td>   2452.</td>\n",
       "</tr>\n",
       "<tr>\n",
       "  <th>Df Model:</th>               <td>     1</td>       <th>                     </th>     <td> </td>   \n",
       "</tr>\n",
       "<tr>\n",
       "  <th>Covariance Type:</th>       <td>nonrobust</td>     <th>                     </th>     <td> </td>   \n",
       "</tr>\n",
       "</table>\n",
       "<table class=\"simpletable\">\n",
       "<tr>\n",
       "     <td></td>       <th>coef</th>     <th>std err</th>      <th>t</th>      <th>P>|t|</th> <th>[95.0% Conf. Int.]</th> \n",
       "</tr>\n",
       "<tr>\n",
       "  <th>AveDPT</th> <td> 5211.5318</td> <td>  796.546</td> <td>    6.543</td> <td> 0.000</td> <td> 3619.259  6803.805</td>\n",
       "</tr>\n",
       "<tr>\n",
       "  <th>Ones</th>   <td> 1.939e+08</td> <td> 1.89e+07</td> <td>   10.267</td> <td> 0.000</td> <td> 1.56e+08  2.32e+08</td>\n",
       "</tr>\n",
       "</table>\n",
       "<table class=\"simpletable\">\n",
       "<tr>\n",
       "  <th>Omnibus:</th>       <td> 4.275</td> <th>  Durbin-Watson:     </th> <td>   0.995</td>\n",
       "</tr>\n",
       "<tr>\n",
       "  <th>Prob(Omnibus):</th> <td> 0.118</td> <th>  Jarque-Bera (JB):  </th> <td>   3.446</td>\n",
       "</tr>\n",
       "<tr>\n",
       "  <th>Skew:</th>          <td> 0.543</td> <th>  Prob(JB):          </th> <td>   0.179</td>\n",
       "</tr>\n",
       "<tr>\n",
       "  <th>Kurtosis:</th>      <td> 3.333</td> <th>  Cond. No.          </th> <td>7.46e+04</td>\n",
       "</tr>\n",
       "</table>"
      ],
      "text/plain": [
       "<class 'statsmodels.iolib.summary.Summary'>\n",
       "\"\"\"\n",
       "                            OLS Regression Results                            \n",
       "==============================================================================\n",
       "Dep. Variable:     DomesticTotalGross   R-squared:                       0.408\n",
       "Model:                            OLS   Adj. R-squared:                  0.399\n",
       "Method:                 Least Squares   F-statistic:                     42.81\n",
       "Date:                Thu, 23 Apr 2015   Prob (F-statistic):           1.32e-08\n",
       "Time:                        16:39:40   Log-Likelihood:                -1221.7\n",
       "No. Observations:                  64   AIC:                             2447.\n",
       "Df Residuals:                      62   BIC:                             2452.\n",
       "Df Model:                           1                                         \n",
       "Covariance Type:            nonrobust                                         \n",
       "==============================================================================\n",
       "                 coef    std err          t      P>|t|      [95.0% Conf. Int.]\n",
       "------------------------------------------------------------------------------\n",
       "AveDPT      5211.5318    796.546      6.543      0.000      3619.259  6803.805\n",
       "Ones        1.939e+08   1.89e+07     10.267      0.000      1.56e+08  2.32e+08\n",
       "==============================================================================\n",
       "Omnibus:                        4.275   Durbin-Watson:                   0.995\n",
       "Prob(Omnibus):                  0.118   Jarque-Bera (JB):                3.446\n",
       "Skew:                           0.543   Prob(JB):                        0.179\n",
       "Kurtosis:                       3.333   Cond. No.                     7.46e+04\n",
       "==============================================================================\n",
       "\n",
       "Warnings:\n",
       "[1] Standard Errors assume that the covariance matrix of the errors is correctly specified.\n",
       "[2] The condition number is large, 7.46e+04. This might indicate that there are\n",
       "strong multicollinearity or other numerical problems.\n",
       "\"\"\""
      ]
     },
     "execution_count": 21,
     "metadata": {},
     "output_type": "execute_result"
    }
   ],
   "source": [
    "# Need ones because statsmodels wants to multiply with this one the constant parameter\n",
    "\n",
    "X = removedDTG[['AveDPT','Ones']]\n",
    "Y = removedDTG['DomesticTotalGross']\n",
    "\n",
    "# OLS = ordinary least squares\n",
    "linmodel = smf.OLS(Y,X).fit()\n",
    "linmodel.summary()"
   ]
  },
  {
   "cell_type": "code",
   "execution_count": 25,
   "metadata": {
    "collapsed": false
   },
   "outputs": [
    {
     "data": {
      "image/png": "[encoded data removed]",
      "text/plain": [
       "<matplotlib.figure.Figure at 0x107060f90>"
      ]
     },
     "metadata": {},
     "output_type": "display_data"
    }
   ],
   "source": [
    "plt.scatter(removedDTG.AveDPT, removedDTG.DomesticTotalGross)\n",
    "plt.title('Benchmark Model')\n",
    "plt.xlabel('Opening Weekend Revenue per Theater (USD)')\n",
    "plt.ylabel('Domestic Total Gross (USD)')\n",
    "\n",
    "plt.plot(removedDTG.AveDPT, linmodel.predict(X),'r-')\n",
    "plt.savefig('AveDPT_fit.png')"
   ]
  },
  {
   "cell_type": "code",
   "execution_count": 26,
   "metadata": {
    "collapsed": false
   },
   "outputs": [
    {
     "name": "stdout",
     "output_type": "stream",
     "text": [
      "17\n"
     ]
    },
    {
     "data": {
      "image/png": "[encoded data removed]",
      "text/plain": [
       "<matplotlib.figure.Figure at 0x106e0f8d0>"
      ]
     },
     "metadata": {},
     "output_type": "display_data"
    }
   ],
   "source": [
    "# the actual vs. the predicted values\n",
    "# the actual vs. the predicted values\n",
    "Yobs = testing['DomesticTotalGross']\n",
    "testInput = testing[['AveDPT','Ones']]\n",
    "predictedDTG = linmodel.predict(testInput)\n",
    "print len(Yobs)\n",
    "plt.plot(Yobs, predictedDTG, 'go')\n",
    "\n",
    "plt.title('Predicted vs. Observed')\n",
    "plt.xlabel('Observed Domestic Total Gross (USD)')\n",
    "plt.ylabel('Predicted Domestic Total Gross (USD)')\n",
    "\n",
    "plt.plot(Yobs,Yobs, 'b--', label=\"Prediction\") \n",
    "#plt.plot(range(10))\n",
    "plt.savefig('AveDPT_test.png')"
   ]
  },
  {
   "cell_type": "code",
   "execution_count": 27,
   "metadata": {
    "collapsed": false
   },
   "outputs": [
    {
     "data": {
      "text/html": [
       "<table class=\"simpletable\">\n",
       "<caption>OLS Regression Results</caption>\n",
       "<tr>\n",
       "  <th>Dep. Variable:</th>    <td>DomesticTotalGross</td> <th>  R-squared:         </th> <td>   0.427</td>\n",
       "</tr>\n",
       "<tr>\n",
       "  <th>Model:</th>                    <td>OLS</td>        <th>  Adj. R-squared:    </th> <td>   0.408</td>\n",
       "</tr>\n",
       "<tr>\n",
       "  <th>Method:</th>              <td>Least Squares</td>   <th>  F-statistic:       </th> <td>   22.69</td>\n",
       "</tr>\n",
       "<tr>\n",
       "  <th>Date:</th>              <td>Thu, 23 Apr 2015</td>  <th>  Prob (F-statistic):</th> <td>4.30e-08</td>\n",
       "</tr>\n",
       "<tr>\n",
       "  <th>Time:</th>                  <td>16:40:28</td>      <th>  Log-Likelihood:    </th> <td> -1220.7</td>\n",
       "</tr>\n",
       "<tr>\n",
       "  <th>No. Observations:</th>       <td>    64</td>       <th>  AIC:               </th> <td>   2447.</td>\n",
       "</tr>\n",
       "<tr>\n",
       "  <th>Df Residuals:</th>           <td>    61</td>       <th>  BIC:               </th> <td>   2454.</td>\n",
       "</tr>\n",
       "<tr>\n",
       "  <th>Df Model:</th>               <td>     2</td>       <th>                     </th>     <td> </td>   \n",
       "</tr>\n",
       "<tr>\n",
       "  <th>Covariance Type:</th>       <td>nonrobust</td>     <th>                     </th>     <td> </td>   \n",
       "</tr>\n",
       "</table>\n",
       "<table class=\"simpletable\">\n",
       "<tr>\n",
       "     <td></td>        <th>coef</th>     <th>std err</th>      <th>t</th>      <th>P>|t|</th> <th>[95.0% Conf. Int.]</th> \n",
       "</tr>\n",
       "<tr>\n",
       "  <th>AveDPT</th>  <td> 4965.8935</td> <td>  810.145</td> <td>    6.130</td> <td> 0.000</td> <td> 3345.909  6585.878</td>\n",
       "</tr>\n",
       "<tr>\n",
       "  <th>Runtime</th> <td> 3.889e+05</td> <td>  2.8e+05</td> <td>    1.390</td> <td> 0.170</td> <td>-1.71e+05  9.48e+05</td>\n",
       "</tr>\n",
       "<tr>\n",
       "  <th>Ones</th>    <td> 1.498e+08</td> <td> 3.68e+07</td> <td>    4.069</td> <td> 0.000</td> <td> 7.62e+07  2.23e+08</td>\n",
       "</tr>\n",
       "</table>\n",
       "<table class=\"simpletable\">\n",
       "<tr>\n",
       "  <th>Omnibus:</th>       <td> 6.436</td> <th>  Durbin-Watson:     </th> <td>   1.007</td>\n",
       "</tr>\n",
       "<tr>\n",
       "  <th>Prob(Omnibus):</th> <td> 0.040</td> <th>  Jarque-Bera (JB):  </th> <td>   5.546</td>\n",
       "</tr>\n",
       "<tr>\n",
       "  <th>Skew:</th>          <td> 0.651</td> <th>  Prob(JB):          </th> <td>  0.0625</td>\n",
       "</tr>\n",
       "<tr>\n",
       "  <th>Kurtosis:</th>      <td> 3.619</td> <th>  Cond. No.          </th> <td>1.47e+05</td>\n",
       "</tr>\n",
       "</table>"
      ],
      "text/plain": [
       "<class 'statsmodels.iolib.summary.Summary'>\n",
       "\"\"\"\n",
       "                            OLS Regression Results                            \n",
       "==============================================================================\n",
       "Dep. Variable:     DomesticTotalGross   R-squared:                       0.427\n",
       "Model:                            OLS   Adj. R-squared:                  0.408\n",
       "Method:                 Least Squares   F-statistic:                     22.69\n",
       "Date:                Thu, 23 Apr 2015   Prob (F-statistic):           4.30e-08\n",
       "Time:                        16:40:28   Log-Likelihood:                -1220.7\n",
       "No. Observations:                  64   AIC:                             2447.\n",
       "Df Residuals:                      61   BIC:                             2454.\n",
       "Df Model:                           2                                         \n",
       "Covariance Type:            nonrobust                                         \n",
       "==============================================================================\n",
       "                 coef    std err          t      P>|t|      [95.0% Conf. Int.]\n",
       "------------------------------------------------------------------------------\n",
       "AveDPT      4965.8935    810.145      6.130      0.000      3345.909  6585.878\n",
       "Runtime     3.889e+05    2.8e+05      1.390      0.170     -1.71e+05  9.48e+05\n",
       "Ones        1.498e+08   3.68e+07      4.069      0.000      7.62e+07  2.23e+08\n",
       "==============================================================================\n",
       "Omnibus:                        6.436   Durbin-Watson:                   1.007\n",
       "Prob(Omnibus):                  0.040   Jarque-Bera (JB):                5.546\n",
       "Skew:                           0.651   Prob(JB):                       0.0625\n",
       "Kurtosis:                       3.619   Cond. No.                     1.47e+05\n",
       "==============================================================================\n",
       "\n",
       "Warnings:\n",
       "[1] Standard Errors assume that the covariance matrix of the errors is correctly specified.\n",
       "[2] The condition number is large, 1.47e+05. This might indicate that there are\n",
       "strong multicollinearity or other numerical problems.\n",
       "\"\"\""
      ]
     },
     "execution_count": 27,
     "metadata": {},
     "output_type": "execute_result"
    }
   ],
   "source": [
    "# better? more complex model\n",
    "X = removedDTG[['AveDPT','Runtime','Ones']]\n",
    "Y = removedDTG['DomesticTotalGross']\n",
    "\n",
    "# OLS = ordinary least squares\n",
    "linearmodel = smf.OLS(Y,X).fit()\n",
    "linearmodel.summary()"
   ]
  },
  {
   "cell_type": "code",
   "execution_count": 28,
   "metadata": {
    "collapsed": false
   },
   "outputs": [
    {
     "data": {
      "image/png": "[encoded data removed]",
      "text/plain": [
       "<matplotlib.figure.Figure at 0x1079dbdd0>"
      ]
     },
     "metadata": {},
     "output_type": "display_data"
    }
   ],
   "source": [
    "##3D data but 2D plot\n",
    "plt.scatter(removedDTG.AveDPT, removedDTG.DomesticTotalGross)\n",
    "plt.title('Improved Model')\n",
    "plt.xlabel('Opening Weekend Revenue per Theater (USD)')\n",
    "plt.ylabel('Domestic Total Gross (USD)')\n",
    "\n",
    "plt.plot(removedDTG.AveDPT, linearmodel.predict(X), 'rs')\n",
    "\n",
    "#plt.plot(range(4))\n",
    "plt.savefig('Improved_model_fit.png')"
   ]
  },
  {
   "cell_type": "code",
   "execution_count": 29,
   "metadata": {
    "collapsed": false
   },
   "outputs": [
    {
     "name": "stdout",
     "output_type": "stream",
     "text": [
      "17\n"
     ]
    },
    {
     "data": {
      "image/png": "[encoded data removed]",
      "text/plain": [
       "<matplotlib.figure.Figure at 0x10769a3d0>"
      ]
     },
     "metadata": {},
     "output_type": "display_data"
    }
   ],
   "source": [
    "# predicted vs observed\n",
    "Yobs = testing['DomesticTotalGross']\n",
    "testInput = testing[['AveDPT','Runtime','Ones']]\n",
    "predictedDTG = linearmodel.predict(testInput)\n",
    "print len(Yobs)\n",
    "plt.plot(Yobs, predictedDTG, 'go')\n",
    "\n",
    "plt.title('Predicted vs. Observed')\n",
    "plt.xlabel('Observed Domestic Total Gross (USD)')\n",
    "plt.ylabel('Predicted Domestic Total Gross (USD)')\n",
    "\n",
    "plt.plot(Yobs,Yobs, 'b--', label=\"Prediction\") \n",
    "\n",
    "plt.savefig('ImprovedModel_test.png')"
   ]
  },
  {
   "cell_type": "code",
   "execution_count": 200,
   "metadata": {
    "collapsed": false
   },
   "outputs": [
    {
     "data": {
      "text/html": [
       "<table class=\"simpletable\">\n",
       "<caption>OLS Regression Results</caption>\n",
       "<tr>\n",
       "  <th>Dep. Variable:</th>    <td>DomesticTotalGross</td> <th>  R-squared:         </th> <td>   0.426</td>\n",
       "</tr>\n",
       "<tr>\n",
       "  <th>Model:</th>                    <td>OLS</td>        <th>  Adj. R-squared:    </th> <td>   0.396</td>\n",
       "</tr>\n",
       "<tr>\n",
       "  <th>Method:</th>              <td>Least Squares</td>   <th>  F-statistic:       </th> <td>   14.57</td>\n",
       "</tr>\n",
       "<tr>\n",
       "  <th>Date:</th>              <td>Thu, 23 Apr 2015</td>  <th>  Prob (F-statistic):</th> <td>3.26e-07</td>\n",
       "</tr>\n",
       "<tr>\n",
       "  <th>Time:</th>                  <td>02:00:48</td>      <th>  Log-Likelihood:    </th> <td> -1204.3</td>\n",
       "</tr>\n",
       "<tr>\n",
       "  <th>No. Observations:</th>       <td>    63</td>       <th>  AIC:               </th> <td>   2417.</td>\n",
       "</tr>\n",
       "<tr>\n",
       "  <th>Df Residuals:</th>           <td>    59</td>       <th>  BIC:               </th> <td>   2425.</td>\n",
       "</tr>\n",
       "<tr>\n",
       "  <th>Df Model:</th>               <td>     3</td>       <th>                     </th>     <td> </td>   \n",
       "</tr>\n",
       "<tr>\n",
       "  <th>Covariance Type:</th>       <td>nonrobust</td>     <th>                     </th>     <td> </td>   \n",
       "</tr>\n",
       "</table>\n",
       "<table class=\"simpletable\">\n",
       "<tr>\n",
       "          <td></td>            <th>coef</th>     <th>std err</th>      <th>t</th>      <th>P>|t|</th> <th>[95.0% Conf. Int.]</th> \n",
       "</tr>\n",
       "<tr>\n",
       "  <th>ProductionBudget</th> <td>    0.0565</td> <td>    0.107</td> <td>    0.529</td> <td> 0.598</td> <td>   -0.157     0.270</td>\n",
       "</tr>\n",
       "<tr>\n",
       "  <th>AveDPT</th>           <td> 4643.5983</td> <td>  921.258</td> <td>    5.040</td> <td> 0.000</td> <td> 2800.166  6487.031</td>\n",
       "</tr>\n",
       "<tr>\n",
       "  <th>Runtime</th>          <td> 5.791e+05</td> <td> 2.77e+05</td> <td>    2.090</td> <td> 0.041</td> <td> 2.48e+04  1.13e+06</td>\n",
       "</tr>\n",
       "<tr>\n",
       "  <th>Ones</th>             <td> 1.287e+08</td> <td>  3.7e+07</td> <td>    3.477</td> <td> 0.001</td> <td> 5.47e+07  2.03e+08</td>\n",
       "</tr>\n",
       "</table>\n",
       "<table class=\"simpletable\">\n",
       "<tr>\n",
       "  <th>Omnibus:</th>       <td> 6.073</td> <th>  Durbin-Watson:     </th> <td>   0.905</td>\n",
       "</tr>\n",
       "<tr>\n",
       "  <th>Prob(Omnibus):</th> <td> 0.048</td> <th>  Jarque-Bera (JB):  </th> <td>   5.191</td>\n",
       "</tr>\n",
       "<tr>\n",
       "  <th>Skew:</th>          <td> 0.658</td> <th>  Prob(JB):          </th> <td>  0.0746</td>\n",
       "</tr>\n",
       "<tr>\n",
       "  <th>Kurtosis:</th>      <td> 3.494</td> <th>  Cond. No.          </th> <td>8.60e+08</td>\n",
       "</tr>\n",
       "</table>"
      ],
      "text/plain": [
       "<class 'statsmodels.iolib.summary.Summary'>\n",
       "\"\"\"\n",
       "                            OLS Regression Results                            \n",
       "==============================================================================\n",
       "Dep. Variable:     DomesticTotalGross   R-squared:                       0.426\n",
       "Model:                            OLS   Adj. R-squared:                  0.396\n",
       "Method:                 Least Squares   F-statistic:                     14.57\n",
       "Date:                Thu, 23 Apr 2015   Prob (F-statistic):           3.26e-07\n",
       "Time:                        02:00:48   Log-Likelihood:                -1204.3\n",
       "No. Observations:                  63   AIC:                             2417.\n",
       "Df Residuals:                      59   BIC:                             2425.\n",
       "Df Model:                           3                                         \n",
       "Covariance Type:            nonrobust                                         \n",
       "====================================================================================\n",
       "                       coef    std err          t      P>|t|      [95.0% Conf. Int.]\n",
       "------------------------------------------------------------------------------------\n",
       "ProductionBudget     0.0565      0.107      0.529      0.598        -0.157     0.270\n",
       "AveDPT            4643.5983    921.258      5.040      0.000      2800.166  6487.031\n",
       "Runtime           5.791e+05   2.77e+05      2.090      0.041      2.48e+04  1.13e+06\n",
       "Ones              1.287e+08    3.7e+07      3.477      0.001      5.47e+07  2.03e+08\n",
       "==============================================================================\n",
       "Omnibus:                        6.073   Durbin-Watson:                   0.905\n",
       "Prob(Omnibus):                  0.048   Jarque-Bera (JB):                5.191\n",
       "Skew:                           0.658   Prob(JB):                       0.0746\n",
       "Kurtosis:                       3.494   Cond. No.                     8.60e+08\n",
       "==============================================================================\n",
       "\n",
       "Warnings:\n",
       "[1] Standard Errors assume that the covariance matrix of the errors is correctly specified.\n",
       "[2] The condition number is large, 8.6e+08. This might indicate that there are\n",
       "strong multicollinearity or other numerical problems.\n",
       "\"\"\""
      ]
     },
     "execution_count": 200,
     "metadata": {},
     "output_type": "execute_result"
    }
   ],
   "source": [
    "# budget and Openning week\n",
    "# better? more complex model\n",
    "X = removedDTG[['ProductionBudget','AveDPT','Runtime','Ones']]\n",
    "Y = removedDTG['DomesticTotalGross']\n",
    "\n",
    "# OLS = ordinary least squares\n",
    "linearmodel_got = smf.OLS(Y,X).fit()\n",
    "linearmodel_got.summary()"
   ]
  },
  {
   "cell_type": "code",
   "execution_count": 1,
   "metadata": {
    "collapsed": false
   },
   "outputs": [
    {
     "ename": "NameError",
     "evalue": "name 'plt' is not defined",
     "output_type": "error",
     "traceback": [
      "\u001b[0;31m---------------------------------------------------------------------------\u001b[0m",
      "\u001b[0;31mNameError\u001b[0m                                 Traceback (most recent call last)",
      "\u001b[0;32m<ipython-input-1-313f80c5e15c>\u001b[0m in \u001b[0;36m<module>\u001b[0;34m()\u001b[0m\n\u001b[0;32m----> 1\u001b[0;31m \u001b[0mplt\u001b[0m\u001b[0;34m.\u001b[0m\u001b[0mscatter\u001b[0m\u001b[0;34m(\u001b[0m\u001b[0mremovedDTG\u001b[0m\u001b[0;34m.\u001b[0m\u001b[0mProductionBudget\u001b[0m\u001b[0;34m,\u001b[0m \u001b[0mremovedDTG\u001b[0m\u001b[0;34m.\u001b[0m\u001b[0mDomesticTotalGross\u001b[0m\u001b[0;34m)\u001b[0m\u001b[0;34m\u001b[0m\u001b[0m\n\u001b[0m\u001b[1;32m      2\u001b[0m \u001b[0mplt\u001b[0m\u001b[0;34m.\u001b[0m\u001b[0mtitle\u001b[0m\u001b[0;34m(\u001b[0m\u001b[0;34m'Domestic Total Gross vs. Production Budget'\u001b[0m\u001b[0;34m)\u001b[0m\u001b[0;34m\u001b[0m\u001b[0m\n\u001b[1;32m      3\u001b[0m \u001b[0mplt\u001b[0m\u001b[0;34m.\u001b[0m\u001b[0mxlabel\u001b[0m\u001b[0;34m(\u001b[0m\u001b[0;34m'Production Budget (USD)'\u001b[0m\u001b[0;34m)\u001b[0m\u001b[0;34m\u001b[0m\u001b[0m\n\u001b[1;32m      4\u001b[0m \u001b[0mplt\u001b[0m\u001b[0;34m.\u001b[0m\u001b[0mylabel\u001b[0m\u001b[0;34m(\u001b[0m\u001b[0;34m'Domestic Total Gross (USD)'\u001b[0m\u001b[0;34m)\u001b[0m\u001b[0;34m\u001b[0m\u001b[0m\n\u001b[1;32m      5\u001b[0m \u001b[0mplt\u001b[0m\u001b[0;34m.\u001b[0m\u001b[0mplot\u001b[0m\u001b[0;34m(\u001b[0m\u001b[0mremovedDTG\u001b[0m\u001b[0;34m.\u001b[0m\u001b[0mProductionBudget\u001b[0m\u001b[0;34m,\u001b[0m \u001b[0mlinearmodel_got\u001b[0m\u001b[0;34m.\u001b[0m\u001b[0mpredict\u001b[0m\u001b[0;34m(\u001b[0m\u001b[0mX\u001b[0m\u001b[0;34m)\u001b[0m\u001b[0;34m,\u001b[0m \u001b[0;34m'rs'\u001b[0m\u001b[0;34m)\u001b[0m\u001b[0;34m\u001b[0m\u001b[0m\n",
      "\u001b[0;31mNameError\u001b[0m: name 'plt' is not defined"
     ]
    }
   ],
   "source": [
    "plt.scatter(removedDTG.ProductionBudget, removedDTG.DomesticTotalGross)\n",
    "plt.title('Domestic Total Gross vs. Production Budget')\n",
    "plt.xlabel('Production Budget (USD)')\n",
    "plt.ylabel('Domestic Total Gross (USD)')\n",
    "plt.plot(removedDTG.ProductionBudget, linearmodel_got.predict(X), 'rs')\n",
    "#plt.savefig('pl07.png')"
   ]
  },
  {
   "cell_type": "code",
   "execution_count": 237,
   "metadata": {
    "collapsed": false
   },
   "outputs": [
    {
     "name": "stdout",
     "output_type": "stream",
     "text": [
      "29\n"
     ]
    },
    {
     "data": {
      "image/png": "[encoded data removed]",
      "text/plain": [
       "<matplotlib.figure.Figure at 0x1148a4e90>"
      ]
     },
     "metadata": {},
     "output_type": "display_data"
    }
   ],
   "source": [
    "# predicted vs observed\n",
    "Yobs = testing['DomesticTotalGross']\n",
    "testInput = testing[['ProductionBudget','AveDPT','Runtime','Ones']]\n",
    "predictedDTG = linearmodel_got.predict(testInput)\n",
    "print len(Yobs)\n",
    "plt.plot(Yobs, predictedDTG, 'go')\n",
    "\n",
    "plt.title('Predicted vs. Observed')\n",
    "plt.xlabel('Observed Domestic Total Gross (USD)')\n",
    "plt.ylabel('Predicted Domestic Total Gross (USD)')\n",
    "\n",
    "plt.plot(Yobs,Yobs, 'b--', label=\"Prediction\") \n",
    "\n",
    "plt.savefig('pl08.png')"
   ]
  },
  {
   "cell_type": "code",
   "execution_count": 302,
   "metadata": {
    "collapsed": false
   },
   "outputs": [
    {
     "data": {
      "text/html": [
       "<table class=\"simpletable\">\n",
       "<caption>OLS Regression Results</caption>\n",
       "<tr>\n",
       "  <th>Dep. Variable:</th>    <td>DomesticTotalGross</td> <th>  R-squared:         </th> <td>   0.383</td>\n",
       "</tr>\n",
       "<tr>\n",
       "  <th>Model:</th>                    <td>OLS</td>        <th>  Adj. R-squared:    </th> <td>   0.362</td>\n",
       "</tr>\n",
       "<tr>\n",
       "  <th>Method:</th>              <td>Least Squares</td>   <th>  F-statistic:       </th> <td>   18.63</td>\n",
       "</tr>\n",
       "<tr>\n",
       "  <th>Date:</th>              <td>Thu, 23 Apr 2015</td>  <th>  Prob (F-statistic):</th> <td>5.10e-07</td>\n",
       "</tr>\n",
       "<tr>\n",
       "  <th>Time:</th>                  <td>02:32:31</td>      <th>  Log-Likelihood:    </th> <td> -1206.6</td>\n",
       "</tr>\n",
       "<tr>\n",
       "  <th>No. Observations:</th>       <td>    63</td>       <th>  AIC:               </th> <td>   2419.</td>\n",
       "</tr>\n",
       "<tr>\n",
       "  <th>Df Residuals:</th>           <td>    60</td>       <th>  BIC:               </th> <td>   2426.</td>\n",
       "</tr>\n",
       "<tr>\n",
       "  <th>Df Model:</th>               <td>     2</td>       <th>                     </th>     <td> </td>   \n",
       "</tr>\n",
       "<tr>\n",
       "  <th>Covariance Type:</th>       <td>nonrobust</td>     <th>                     </th>     <td> </td>   \n",
       "</tr>\n",
       "</table>\n",
       "<table class=\"simpletable\">\n",
       "<tr>\n",
       "          <td></td>            <th>coef</th>     <th>std err</th>      <th>t</th>      <th>P>|t|</th> <th>[95.0% Conf. Int.]</th> \n",
       "</tr>\n",
       "<tr>\n",
       "  <th>ProductionBudget</th> <td>    0.1103</td> <td>    0.107</td> <td>    1.035</td> <td> 0.305</td> <td>   -0.103     0.323</td>\n",
       "</tr>\n",
       "<tr>\n",
       "  <th>AveDPT</th>           <td> 4781.2258</td> <td>  944.353</td> <td>    5.063</td> <td> 0.000</td> <td> 2892.239  6670.212</td>\n",
       "</tr>\n",
       "<tr>\n",
       "  <th>Ones</th>             <td> 1.931e+08</td> <td> 2.11e+07</td> <td>    9.136</td> <td> 0.000</td> <td> 1.51e+08  2.35e+08</td>\n",
       "</tr>\n",
       "</table>\n",
       "<table class=\"simpletable\">\n",
       "<tr>\n",
       "  <th>Omnibus:</th>       <td> 4.238</td> <th>  Durbin-Watson:     </th> <td>   0.897</td>\n",
       "</tr>\n",
       "<tr>\n",
       "  <th>Prob(Omnibus):</th> <td> 0.120</td> <th>  Jarque-Bera (JB):  </th> <td>   3.771</td>\n",
       "</tr>\n",
       "<tr>\n",
       "  <th>Skew:</th>          <td> 0.599</td> <th>  Prob(JB):          </th> <td>   0.152</td>\n",
       "</tr>\n",
       "<tr>\n",
       "  <th>Kurtosis:</th>      <td> 3.040</td> <th>  Cond. No.          </th> <td>4.78e+08</td>\n",
       "</tr>\n",
       "</table>"
      ],
      "text/plain": [
       "<class 'statsmodels.iolib.summary.Summary'>\n",
       "\"\"\"\n",
       "                            OLS Regression Results                            \n",
       "==============================================================================\n",
       "Dep. Variable:     DomesticTotalGross   R-squared:                       0.383\n",
       "Model:                            OLS   Adj. R-squared:                  0.362\n",
       "Method:                 Least Squares   F-statistic:                     18.63\n",
       "Date:                Thu, 23 Apr 2015   Prob (F-statistic):           5.10e-07\n",
       "Time:                        02:32:31   Log-Likelihood:                -1206.6\n",
       "No. Observations:                  63   AIC:                             2419.\n",
       "Df Residuals:                      60   BIC:                             2426.\n",
       "Df Model:                           2                                         \n",
       "Covariance Type:            nonrobust                                         \n",
       "====================================================================================\n",
       "                       coef    std err          t      P>|t|      [95.0% Conf. Int.]\n",
       "------------------------------------------------------------------------------------\n",
       "ProductionBudget     0.1103      0.107      1.035      0.305        -0.103     0.323\n",
       "AveDPT            4781.2258    944.353      5.063      0.000      2892.239  6670.212\n",
       "Ones              1.931e+08   2.11e+07      9.136      0.000      1.51e+08  2.35e+08\n",
       "==============================================================================\n",
       "Omnibus:                        4.238   Durbin-Watson:                   0.897\n",
       "Prob(Omnibus):                  0.120   Jarque-Bera (JB):                3.771\n",
       "Skew:                           0.599   Prob(JB):                        0.152\n",
       "Kurtosis:                       3.040   Cond. No.                     4.78e+08\n",
       "==============================================================================\n",
       "\n",
       "Warnings:\n",
       "[1] Standard Errors assume that the covariance matrix of the errors is correctly specified.\n",
       "[2] The condition number is large, 4.78e+08. This might indicate that there are\n",
       "strong multicollinearity or other numerical problems.\n",
       "\"\"\""
      ]
     },
     "execution_count": 302,
     "metadata": {},
     "output_type": "execute_result"
    }
   ],
   "source": [
    "# budget and Openning week\n",
    "# better? more complex model\n",
    "X = removedDTG[['ProductionBudget','AveDPT','Ones']]\n",
    "Y = removedDTG['DomesticTotalGross']\n",
    "\n",
    "# OLS = ordinary least squares\n",
    "linearmodel_PB = smf.OLS(Y,X).fit()\n",
    "linearmodel_PB.summary()"
   ]
  },
  {
   "cell_type": "code",
   "execution_count": 303,
   "metadata": {
    "collapsed": false
   },
   "outputs": [
    {
     "data": {
      "image/png": "[encoded data removed]",
      "text/plain": [
       "<matplotlib.figure.Figure at 0x114a5ac90>"
      ]
     },
     "metadata": {},
     "output_type": "display_data"
    }
   ],
   "source": [
    "##3D data but 2D plot\n",
    "plt.scatter(removedDTG.AveDPT, removedDTG.DomesticTotalGross)\n",
    "plt.title('Domestic Total Gross vs. Opening Weekend Revenue')\n",
    "plt.xlabel('Opening Weekend Revenue per Theater')\n",
    "plt.ylabel('Domestic Total Gross')\n",
    "\n",
    "plt.plot(removedDTG.AveDPT, linearmodel_PB.predict(X), 'rs')\n",
    "\n",
    "#plt.plot(range(4))\n",
    "plt.savefig('pl09.png')"
   ]
  },
  {
   "cell_type": "code",
   "execution_count": 304,
   "metadata": {
    "collapsed": false
   },
   "outputs": [
    {
     "data": {
      "image/png": "[encoded data removed]",
      "text/plain": [
       "<matplotlib.figure.Figure at 0x11568b250>"
      ]
     },
     "metadata": {},
     "output_type": "display_data"
    }
   ],
   "source": [
    "plt.scatter(removedDTG.ProductionBudget, removedDTG.DomesticTotalGross)\n",
    "plt.title('Domestic Total Gross vs. Production Budget')\n",
    "plt.xlabel('Production Budget (USD)')\n",
    "plt.ylabel('Domestic Total Gross (USD)')\n",
    "\n",
    "plt.plot(removedDTG.ProductionBudget, linearmodel_PB.predict(X), 'r-')\n",
    "\n",
    "\n",
    "#plt.plot(range(10))\n",
    "plt.savefig('pl10.png')\n",
    "\n"
   ]
  },
  {
   "cell_type": "code",
   "execution_count": 305,
   "metadata": {
    "collapsed": false
   },
   "outputs": [
    {
     "name": "stdout",
     "output_type": "stream",
     "text": [
      "29\n"
     ]
    },
    {
     "data": {
      "image/png": "[encoded data removed]",
      "text/plain": [
       "<matplotlib.figure.Figure at 0x114940910>"
      ]
     },
     "metadata": {},
     "output_type": "display_data"
    }
   ],
   "source": [
    "# predicted vs observed\n",
    "Yobs = testing['DomesticTotalGross']\n",
    "testInput = testing[['ProductionBudget','AveDPT','Ones']]\n",
    "predictedDTG = linearmodel_PB.predict(testInput)\n",
    "print len(Yobs)\n",
    "plt.plot(Yobs, predictedDTG, 'go')\n",
    "\n",
    "plt.title('Predicted vs. Observed')\n",
    "plt.xlabel('Observed Domestic Total Gross (USD)')\n",
    "plt.ylabel('Predicted Domestic Total Gross (USD)')\n",
    "\n",
    "plt.plot(Yobs,Yobs, 'b--', label=\"Prediction\") \n",
    "\n",
    "plt.savefig('pl11.png')"
   ]
  },
  {
   "cell_type": "code",
   "execution_count": 156,
   "metadata": {
    "collapsed": false
   },
   "outputs": [
    {
     "ename": "KeyError",
     "evalue": "\"['G' 'PG'] not in index\"",
     "output_type": "error",
     "traceback": [
      "\u001b[0;31m---------------------------------------------------------------------------\u001b[0m",
      "\u001b[0;31mKeyError\u001b[0m                                  Traceback (most recent call last)",
      "\u001b[0;32m<ipython-input-156-4d0394c729af>\u001b[0m in \u001b[0;36m<module>\u001b[0;34m()\u001b[0m\n\u001b[1;32m      1\u001b[0m \u001b[0;31m# including movies rating\u001b[0m\u001b[0;34m\u001b[0m\u001b[0;34m\u001b[0m\u001b[0m\n\u001b[0;32m----> 2\u001b[0;31m \u001b[0mX\u001b[0m \u001b[0;34m=\u001b[0m \u001b[0mremovedDTG\u001b[0m\u001b[0;34m[\u001b[0m\u001b[0;34m[\u001b[0m\u001b[0;34m'AveDPT'\u001b[0m\u001b[0;34m,\u001b[0m\u001b[0;34m'Runtime'\u001b[0m\u001b[0;34m,\u001b[0m\u001b[0;34m'G'\u001b[0m\u001b[0;34m,\u001b[0m\u001b[0;34m'PG'\u001b[0m\u001b[0;34m,\u001b[0m\u001b[0;34m'Ones'\u001b[0m\u001b[0;34m]\u001b[0m\u001b[0;34m]\u001b[0m\u001b[0;34m\u001b[0m\u001b[0m\n\u001b[0m\u001b[1;32m      3\u001b[0m \u001b[0mY\u001b[0m \u001b[0;34m=\u001b[0m \u001b[0mremovedDTG\u001b[0m\u001b[0;34m[\u001b[0m\u001b[0;34m'DomesticTotalGross'\u001b[0m\u001b[0;34m]\u001b[0m\u001b[0;34m\u001b[0m\u001b[0m\n\u001b[1;32m      4\u001b[0m \u001b[0;34m\u001b[0m\u001b[0m\n\u001b[1;32m      5\u001b[0m \u001b[0;31m# OLS = ordinary least squares\u001b[0m\u001b[0;34m\u001b[0m\u001b[0;34m\u001b[0m\u001b[0m\n",
      "\u001b[0;32m/usr/local/lib/python2.7/site-packages/pandas/core/frame.pyc\u001b[0m in \u001b[0;36m__getitem__\u001b[0;34m(self, key)\u001b[0m\n\u001b[1;32m   1779\u001b[0m         \u001b[0;32mif\u001b[0m \u001b[0misinstance\u001b[0m\u001b[0;34m(\u001b[0m\u001b[0mkey\u001b[0m\u001b[0;34m,\u001b[0m \u001b[0;34m(\u001b[0m\u001b[0mSeries\u001b[0m\u001b[0;34m,\u001b[0m \u001b[0mnp\u001b[0m\u001b[0;34m.\u001b[0m\u001b[0mndarray\u001b[0m\u001b[0;34m,\u001b[0m \u001b[0mIndex\u001b[0m\u001b[0;34m,\u001b[0m \u001b[0mlist\u001b[0m\u001b[0;34m)\u001b[0m\u001b[0;34m)\u001b[0m\u001b[0;34m:\u001b[0m\u001b[0;34m\u001b[0m\u001b[0m\n\u001b[1;32m   1780\u001b[0m             \u001b[0;31m# either boolean or fancy integer index\u001b[0m\u001b[0;34m\u001b[0m\u001b[0;34m\u001b[0m\u001b[0m\n\u001b[0;32m-> 1781\u001b[0;31m             \u001b[0;32mreturn\u001b[0m \u001b[0mself\u001b[0m\u001b[0;34m.\u001b[0m\u001b[0m_getitem_array\u001b[0m\u001b[0;34m(\u001b[0m\u001b[0mkey\u001b[0m\u001b[0;34m)\u001b[0m\u001b[0;34m\u001b[0m\u001b[0m\n\u001b[0m\u001b[1;32m   1782\u001b[0m         \u001b[0;32melif\u001b[0m \u001b[0misinstance\u001b[0m\u001b[0;34m(\u001b[0m\u001b[0mkey\u001b[0m\u001b[0;34m,\u001b[0m \u001b[0mDataFrame\u001b[0m\u001b[0;34m)\u001b[0m\u001b[0;34m:\u001b[0m\u001b[0;34m\u001b[0m\u001b[0m\n\u001b[1;32m   1783\u001b[0m             \u001b[0;32mreturn\u001b[0m \u001b[0mself\u001b[0m\u001b[0;34m.\u001b[0m\u001b[0m_getitem_frame\u001b[0m\u001b[0;34m(\u001b[0m\u001b[0mkey\u001b[0m\u001b[0;34m)\u001b[0m\u001b[0;34m\u001b[0m\u001b[0m\n",
      "\u001b[0;32m/usr/local/lib/python2.7/site-packages/pandas/core/frame.pyc\u001b[0m in \u001b[0;36m_getitem_array\u001b[0;34m(self, key)\u001b[0m\n\u001b[1;32m   1823\u001b[0m             \u001b[0;32mreturn\u001b[0m \u001b[0mself\u001b[0m\u001b[0;34m.\u001b[0m\u001b[0mtake\u001b[0m\u001b[0;34m(\u001b[0m\u001b[0mindexer\u001b[0m\u001b[0;34m,\u001b[0m \u001b[0maxis\u001b[0m\u001b[0;34m=\u001b[0m\u001b[0;36m0\u001b[0m\u001b[0;34m,\u001b[0m \u001b[0mconvert\u001b[0m\u001b[0;34m=\u001b[0m\u001b[0mFalse\u001b[0m\u001b[0;34m)\u001b[0m\u001b[0;34m\u001b[0m\u001b[0m\n\u001b[1;32m   1824\u001b[0m         \u001b[0;32melse\u001b[0m\u001b[0;34m:\u001b[0m\u001b[0;34m\u001b[0m\u001b[0m\n\u001b[0;32m-> 1825\u001b[0;31m             \u001b[0mindexer\u001b[0m \u001b[0;34m=\u001b[0m \u001b[0mself\u001b[0m\u001b[0;34m.\u001b[0m\u001b[0mix\u001b[0m\u001b[0;34m.\u001b[0m\u001b[0m_convert_to_indexer\u001b[0m\u001b[0;34m(\u001b[0m\u001b[0mkey\u001b[0m\u001b[0;34m,\u001b[0m \u001b[0maxis\u001b[0m\u001b[0;34m=\u001b[0m\u001b[0;36m1\u001b[0m\u001b[0;34m)\u001b[0m\u001b[0;34m\u001b[0m\u001b[0m\n\u001b[0m\u001b[1;32m   1826\u001b[0m             \u001b[0;32mreturn\u001b[0m \u001b[0mself\u001b[0m\u001b[0;34m.\u001b[0m\u001b[0mtake\u001b[0m\u001b[0;34m(\u001b[0m\u001b[0mindexer\u001b[0m\u001b[0;34m,\u001b[0m \u001b[0maxis\u001b[0m\u001b[0;34m=\u001b[0m\u001b[0;36m1\u001b[0m\u001b[0;34m,\u001b[0m \u001b[0mconvert\u001b[0m\u001b[0;34m=\u001b[0m\u001b[0mTrue\u001b[0m\u001b[0;34m)\u001b[0m\u001b[0;34m\u001b[0m\u001b[0m\n\u001b[1;32m   1827\u001b[0m \u001b[0;34m\u001b[0m\u001b[0m\n",
      "\u001b[0;32m/usr/local/lib/python2.7/site-packages/pandas/core/indexing.pyc\u001b[0m in \u001b[0;36m_convert_to_indexer\u001b[0;34m(self, obj, axis, is_setter)\u001b[0m\n\u001b[1;32m   1138\u001b[0m                 \u001b[0mmask\u001b[0m \u001b[0;34m=\u001b[0m \u001b[0mcheck\u001b[0m \u001b[0;34m==\u001b[0m \u001b[0;34m-\u001b[0m\u001b[0;36m1\u001b[0m\u001b[0;34m\u001b[0m\u001b[0m\n\u001b[1;32m   1139\u001b[0m                 \u001b[0;32mif\u001b[0m \u001b[0mmask\u001b[0m\u001b[0;34m.\u001b[0m\u001b[0many\u001b[0m\u001b[0;34m(\u001b[0m\u001b[0;34m)\u001b[0m\u001b[0;34m:\u001b[0m\u001b[0;34m\u001b[0m\u001b[0m\n\u001b[0;32m-> 1140\u001b[0;31m                     \u001b[0;32mraise\u001b[0m \u001b[0mKeyError\u001b[0m\u001b[0;34m(\u001b[0m\u001b[0;34m'%s not in index'\u001b[0m \u001b[0;34m%\u001b[0m \u001b[0mobjarr\u001b[0m\u001b[0;34m[\u001b[0m\u001b[0mmask\u001b[0m\u001b[0;34m]\u001b[0m\u001b[0;34m)\u001b[0m\u001b[0;34m\u001b[0m\u001b[0m\n\u001b[0m\u001b[1;32m   1141\u001b[0m \u001b[0;34m\u001b[0m\u001b[0m\n\u001b[1;32m   1142\u001b[0m                 \u001b[0;32mreturn\u001b[0m \u001b[0m_values_from_object\u001b[0m\u001b[0;34m(\u001b[0m\u001b[0mindexer\u001b[0m\u001b[0;34m)\u001b[0m\u001b[0;34m\u001b[0m\u001b[0m\n",
      "\u001b[0;31mKeyError\u001b[0m: \"['G' 'PG'] not in index\""
     ]
    }
   ],
   "source": [
    "# including movies rating\n",
    "X = removedDTG[['AveDPT','Runtime','G','PG','Ones']]\n",
    "Y = removedDTG['DomesticTotalGross']\n",
    "\n",
    "# OLS = ordinary least squares\n",
    " #linearmodel_all = smf.OLS(Y,X).fit()\n",
    "#linearmodel_all.summary()"
   ]
  },
  {
   "cell_type": "markdown",
   "metadata": {},
   "source": [
    "~~~~~~~Next are sklearn~~~~~~~~~~~~~~~"
   ]
  },
  {
   "cell_type": "code",
   "execution_count": 39,
   "metadata": {
    "collapsed": false
   },
   "outputs": [
    {
     "name": "stdout",
     "output_type": "stream",
     "text": [
      "coefficient:\t 5016.19\n",
      "intercept:  \t 2.06123e+08\n",
      "R squared:  \t 0.268007\n"
     ]
    }
   ],
   "source": [
    "# Linear Regression again, but with scikit.learn\n",
    "from sklearn.linear_model import LinearRegression\n",
    "\n",
    "X = movies_with_AveDPT[['AveDPT']] # X has to be a matrix\n",
    "Y = movies_with_AveDPT['DomesticTotalGross']\n",
    "\n",
    "sk_linmodel = LinearRegression()\n",
    "sk_linmodel.fit(X,Y) # NOTE: X,Y, not Y,X as in statsmodel. Why? Because!\n",
    "\n",
    "print 'coefficient:\\t %g' % sk_linmodel.coef_ # \"Internal\" \n",
    "print 'intercept:  \\t %g' % sk_linmodel.intercept_ # \"Internal\"\n",
    "print 'R squared:  \\t %g' % sk_linmodel.score(X,Y)"
   ]
  },
  {
   "cell_type": "code",
   "execution_count": 41,
   "metadata": {
    "collapsed": false
   },
   "outputs": [
    {
     "data": {
      "image/png": "[encoded data removed]",
      "text/plain": [
       "<matplotlib.figure.Figure at 0x10fe349d0>"
      ]
     },
     "metadata": {},
     "output_type": "display_data"
    }
   ],
   "source": [
    "plt.scatter(X,Y)\n",
    "plt.xlabel('Openning Weekend Revenue per Theater')\n",
    "plt.ylabel('Domestic Gross Revenue')\n",
    "plt.plot(X, sk_linmodel.predict(X), 'r-')\n",
    "plt.show()"
   ]
  },
  {
   "cell_type": "code",
   "execution_count": 43,
   "metadata": {
    "collapsed": false
   },
   "outputs": [
    {
     "data": {
      "text/plain": [
       "[<matplotlib.lines.Line2D at 0x10f9778d0>]"
      ]
     },
     "execution_count": 43,
     "metadata": {},
     "output_type": "execute_result"
    },
    {
     "data": {
      "image/png": "[encoded data removed]",
      "text/plain": [
       "<matplotlib.figure.Figure at 0x10fafd110>"
      ]
     },
     "metadata": {},
     "output_type": "display_data"
    }
   ],
   "source": [
    "# the actual vs. the predicted values\n",
    "plt.plot(Y, sk_linmodel.predict(X), 'go')\n",
    "\n",
    "plt.xlabel('Actual Gross')\n",
    "plt.ylabel('Predicted Gross by Model')\n",
    "\n",
    "plt.plot(Y,Y, 'm--', label=\"Prediction\") # Magenda dashed line\n",
    "#plt.show()"
   ]
  },
  {
   "cell_type": "code",
   "execution_count": 102,
   "metadata": {
    "collapsed": false
   },
   "outputs": [
    {
     "data": {
      "text/html": [
       "<table class=\"simpletable\">\n",
       "<caption>OLS Regression Results</caption>\n",
       "<tr>\n",
       "  <th>Dep. Variable:</th>    <td>DomesticTotalGross</td> <th>  R-squared:         </th> <td>   0.277</td>\n",
       "</tr>\n",
       "<tr>\n",
       "  <th>Model:</th>                    <td>OLS</td>        <th>  Adj. R-squared:    </th> <td>   0.253</td>\n",
       "</tr>\n",
       "<tr>\n",
       "  <th>Method:</th>              <td>Least Squares</td>   <th>  F-statistic:       </th> <td>   11.32</td>\n",
       "</tr>\n",
       "<tr>\n",
       "  <th>Date:</th>              <td>Thu, 23 Apr 2015</td>  <th>  Prob (F-statistic):</th> <td>6.88e-05</td>\n",
       "</tr>\n",
       "<tr>\n",
       "  <th>Time:</th>                  <td>00:33:35</td>      <th>  Log-Likelihood:    </th> <td> -1190.4</td>\n",
       "</tr>\n",
       "<tr>\n",
       "  <th>No. Observations:</th>       <td>    62</td>       <th>  AIC:               </th> <td>   2387.</td>\n",
       "</tr>\n",
       "<tr>\n",
       "  <th>Df Residuals:</th>           <td>    59</td>       <th>  BIC:               </th> <td>   2393.</td>\n",
       "</tr>\n",
       "<tr>\n",
       "  <th>Df Model:</th>               <td>     2</td>       <th>                     </th>     <td> </td>   \n",
       "</tr>\n",
       "<tr>\n",
       "  <th>Covariance Type:</th>       <td>nonrobust</td>     <th>                     </th>     <td> </td>   \n",
       "</tr>\n",
       "</table>\n",
       "<table class=\"simpletable\">\n",
       "<tr>\n",
       "     <td></td>        <th>coef</th>     <th>std err</th>      <th>t</th>      <th>P>|t|</th> <th>[95.0% Conf. Int.]</th> \n",
       "</tr>\n",
       "<tr>\n",
       "  <th>AveDPT</th>  <td> 4020.9029</td> <td> 1013.398</td> <td>    3.968</td> <td> 0.000</td> <td> 1993.098  6048.708</td>\n",
       "</tr>\n",
       "<tr>\n",
       "  <th>Runtime</th> <td> 5.024e+05</td> <td> 2.94e+05</td> <td>    1.708</td> <td> 0.093</td> <td>-8.63e+04  1.09e+06</td>\n",
       "</tr>\n",
       "<tr>\n",
       "  <th>Ones</th>    <td> 1.584e+08</td> <td> 4.05e+07</td> <td>    3.913</td> <td> 0.000</td> <td> 7.74e+07  2.39e+08</td>\n",
       "</tr>\n",
       "</table>\n",
       "<table class=\"simpletable\">\n",
       "<tr>\n",
       "  <th>Omnibus:</th>       <td> 7.614</td> <th>  Durbin-Watson:     </th> <td>   0.512</td>\n",
       "</tr>\n",
       "<tr>\n",
       "  <th>Prob(Omnibus):</th> <td> 0.022</td> <th>  Jarque-Bera (JB):  </th> <td>   7.161</td>\n",
       "</tr>\n",
       "<tr>\n",
       "  <th>Skew:</th>          <td> 0.819</td> <th>  Prob(JB):          </th> <td>  0.0279</td>\n",
       "</tr>\n",
       "<tr>\n",
       "  <th>Kurtosis:</th>      <td> 3.297</td> <th>  Cond. No.          </th> <td>1.39e+05</td>\n",
       "</tr>\n",
       "</table>"
      ],
      "text/plain": [
       "<class 'statsmodels.iolib.summary.Summary'>\n",
       "\"\"\"\n",
       "                            OLS Regression Results                            \n",
       "==============================================================================\n",
       "Dep. Variable:     DomesticTotalGross   R-squared:                       0.277\n",
       "Model:                            OLS   Adj. R-squared:                  0.253\n",
       "Method:                 Least Squares   F-statistic:                     11.32\n",
       "Date:                Thu, 23 Apr 2015   Prob (F-statistic):           6.88e-05\n",
       "Time:                        00:33:35   Log-Likelihood:                -1190.4\n",
       "No. Observations:                  62   AIC:                             2387.\n",
       "Df Residuals:                      59   BIC:                             2393.\n",
       "Df Model:                           2                                         \n",
       "Covariance Type:            nonrobust                                         \n",
       "==============================================================================\n",
       "                 coef    std err          t      P>|t|      [95.0% Conf. Int.]\n",
       "------------------------------------------------------------------------------\n",
       "AveDPT      4020.9029   1013.398      3.968      0.000      1993.098  6048.708\n",
       "Runtime     5.024e+05   2.94e+05      1.708      0.093     -8.63e+04  1.09e+06\n",
       "Ones        1.584e+08   4.05e+07      3.913      0.000      7.74e+07  2.39e+08\n",
       "==============================================================================\n",
       "Omnibus:                        7.614   Durbin-Watson:                   0.512\n",
       "Prob(Omnibus):                  0.022   Jarque-Bera (JB):                7.161\n",
       "Skew:                           0.819   Prob(JB):                       0.0279\n",
       "Kurtosis:                       3.297   Cond. No.                     1.39e+05\n",
       "==============================================================================\n",
       "\n",
       "Warnings:\n",
       "[1] Standard Errors assume that the covariance matrix of the errors is correctly specified.\n",
       "[2] The condition number is large, 1.39e+05. This might indicate that there are\n",
       "strong multicollinearity or other numerical problems.\n",
       "\"\"\""
      ]
     },
     "execution_count": 102,
     "metadata": {},
     "output_type": "execute_result"
    }
   ],
   "source": []
  },
  {
   "cell_type": "code",
   "execution_count": 52,
   "metadata": {
    "collapsed": false
   },
   "outputs": [
    {
     "data": {
      "text/html": [
       "<div style=\"max-height:1000px;max-width:1500px;overflow:auto;\">\n",
       "<table border=\"1\" class=\"dataframe\">\n",
       "  <thead>\n",
       "    <tr style=\"text-align: right;\">\n",
       "      <th></th>\n",
       "      <th>Actors</th>\n",
       "      <th>AveDPT</th>\n",
       "      <th>Directors</th>\n",
       "      <th>DomesticOpeningWeekend</th>\n",
       "      <th>DomesticTotalGross</th>\n",
       "      <th>Genre</th>\n",
       "      <th>MovieTitle</th>\n",
       "      <th>ProductionBudget</th>\n",
       "      <th>Rating</th>\n",
       "      <th>ReleaseDate</th>\n",
       "      <th>Runtime</th>\n",
       "      <th>Theaters</th>\n",
       "      <th>Ones</th>\n",
       "    </tr>\n",
       "  </thead>\n",
       "  <tbody>\n",
       "    <tr>\n",
       "      <th>1</th>\n",
       "      <td>Leonardo DiCaprio,Kate Winslet,Kathy Bates,Ioa...</td>\n",
       "      <td>10710</td>\n",
       "      <td>James Cameron</td>\n",
       "      <td>28638131</td>\n",
       "      <td>600788188</td>\n",
       "      <td>Romance</td>\n",
       "      <td>Titanic</td>\n",
       "      <td>200000000</td>\n",
       "      <td>PG-13</td>\n",
       "      <td>1997-12-19</td>\n",
       "      <td>194</td>\n",
       "      <td>2674</td>\n",
       "      <td>1</td>\n",
       "    </tr>\n",
       "    <tr>\n",
       "      <th>2</th>\n",
       "      <td>Robert Downey, Jr.,Chris Hemsworth,Chris Evans...</td>\n",
       "      <td>47698</td>\n",
       "      <td>Joss Whedon</td>\n",
       "      <td>207438708</td>\n",
       "      <td>623357910</td>\n",
       "      <td>Action / Adventure</td>\n",
       "      <td>Marvel's The Avengers</td>\n",
       "      <td>220000000</td>\n",
       "      <td>PG-13</td>\n",
       "      <td>2012-05-04</td>\n",
       "      <td>142</td>\n",
       "      <td>4349</td>\n",
       "      <td>1</td>\n",
       "    </tr>\n",
       "    <tr>\n",
       "      <th>3</th>\n",
       "      <td>Christian Bale,Heath Ledger,Aaron Eckhart,Morg...</td>\n",
       "      <td>36283</td>\n",
       "      <td>Christopher Nolan</td>\n",
       "      <td>158411483</td>\n",
       "      <td>533345358</td>\n",
       "      <td>Action / Adventure</td>\n",
       "      <td>The Dark Knight</td>\n",
       "      <td>185000000</td>\n",
       "      <td>PG-13</td>\n",
       "      <td>2008-07-18</td>\n",
       "      <td>150</td>\n",
       "      <td>4366</td>\n",
       "      <td>1</td>\n",
       "    </tr>\n",
       "    <tr>\n",
       "      <th>4</th>\n",
       "      <td>Liam Neeson,Ewan McGregor,Natalie Portman,Samu...</td>\n",
       "      <td>21825</td>\n",
       "      <td>George Lucas</td>\n",
       "      <td>64820970</td>\n",
       "      <td>431088295</td>\n",
       "      <td>Sci-Fi Fantasy</td>\n",
       "      <td>Star Wars: Episode I - The Phantom Menace</td>\n",
       "      <td>115000000</td>\n",
       "      <td>PG</td>\n",
       "      <td>1999-05-19</td>\n",
       "      <td>133</td>\n",
       "      <td>2970</td>\n",
       "      <td>1</td>\n",
       "    </tr>\n",
       "    <tr>\n",
       "      <th>6</th>\n",
       "      <td>Christian Bale,Michael Caine,Anne Hathaway,Tom...</td>\n",
       "      <td>36532</td>\n",
       "      <td>Christopher Nolan</td>\n",
       "      <td>160887295</td>\n",
       "      <td>448139099</td>\n",
       "      <td>Action Thriller</td>\n",
       "      <td>The Dark Knight Rises</td>\n",
       "      <td>250000000</td>\n",
       "      <td>PG-13</td>\n",
       "      <td>2012-07-20</td>\n",
       "      <td>165</td>\n",
       "      <td>4404</td>\n",
       "      <td>1</td>\n",
       "    </tr>\n",
       "  </tbody>\n",
       "</table>\n",
       "</div>"
      ],
      "text/plain": [
       "                                              Actors  AveDPT  \\\n",
       "1  Leonardo DiCaprio,Kate Winslet,Kathy Bates,Ioa...   10710   \n",
       "2  Robert Downey, Jr.,Chris Hemsworth,Chris Evans...   47698   \n",
       "3  Christian Bale,Heath Ledger,Aaron Eckhart,Morg...   36283   \n",
       "4  Liam Neeson,Ewan McGregor,Natalie Portman,Samu...   21825   \n",
       "6  Christian Bale,Michael Caine,Anne Hathaway,Tom...   36532   \n",
       "\n",
       "           Directors  DomesticOpeningWeekend  DomesticTotalGross  \\\n",
       "1      James Cameron                28638131           600788188   \n",
       "2        Joss Whedon               207438708           623357910   \n",
       "3  Christopher Nolan               158411483           533345358   \n",
       "4       George Lucas                64820970           431088295   \n",
       "6  Christopher Nolan               160887295           448139099   \n",
       "\n",
       "                Genre                                 MovieTitle  \\\n",
       "1             Romance                                    Titanic   \n",
       "2  Action / Adventure                      Marvel's The Avengers   \n",
       "3  Action / Adventure                            The Dark Knight   \n",
       "4      Sci-Fi Fantasy  Star Wars: Episode I - The Phantom Menace   \n",
       "6     Action Thriller                      The Dark Knight Rises   \n",
       "\n",
       "   ProductionBudget Rating ReleaseDate  Runtime  Theaters  Ones  \n",
       "1         200000000  PG-13  1997-12-19      194      2674     1  \n",
       "2         220000000  PG-13  2012-05-04      142      4349     1  \n",
       "3         185000000  PG-13  2008-07-18      150      4366     1  \n",
       "4         115000000     PG  1999-05-19      133      2970     1  \n",
       "6         250000000  PG-13  2012-07-20      165      4404     1  "
      ]
     },
     "execution_count": 52,
     "metadata": {},
     "output_type": "execute_result"
    }
   ],
   "source": [
    "movies_with_AveDPT['TitleLength'] = [len(title) for title in movies_with_AveDPT.MovieTitle]\n",
    "movies_with_budget.head()"
   ]
  },
  {
   "cell_type": "code",
   "execution_count": 58,
   "metadata": {
    "collapsed": false
   },
   "outputs": [
    {
     "data": {
      "text/html": [
       "<table class=\"simpletable\">\n",
       "<caption>OLS Regression Results</caption>\n",
       "<tr>\n",
       "  <th>Dep. Variable:</th>    <td>DomesticTotalGross</td> <th>  R-squared:         </th> <td>   0.397</td>\n",
       "</tr>\n",
       "<tr>\n",
       "  <th>Model:</th>                    <td>OLS</td>        <th>  Adj. R-squared:    </th> <td>   0.374</td>\n",
       "</tr>\n",
       "<tr>\n",
       "  <th>Method:</th>              <td>Least Squares</td>   <th>  F-statistic:       </th> <td>   17.32</td>\n",
       "</tr>\n",
       "<tr>\n",
       "  <th>Date:</th>              <td>Wed, 22 Apr 2015</td>  <th>  Prob (F-statistic):</th> <td>9.78e-09</td>\n",
       "</tr>\n",
       "<tr>\n",
       "  <th>Time:</th>                  <td>20:45:57</td>      <th>  Log-Likelihood:    </th> <td> -1603.7</td>\n",
       "</tr>\n",
       "<tr>\n",
       "  <th>No. Observations:</th>       <td>    83</td>       <th>  AIC:               </th> <td>   3215.</td>\n",
       "</tr>\n",
       "<tr>\n",
       "  <th>Df Residuals:</th>           <td>    79</td>       <th>  BIC:               </th> <td>   3225.</td>\n",
       "</tr>\n",
       "<tr>\n",
       "  <th>Df Model:</th>               <td>     3</td>       <th>                     </th>     <td> </td>   \n",
       "</tr>\n",
       "<tr>\n",
       "  <th>Covariance Type:</th>       <td>nonrobust</td>     <th>                     </th>     <td> </td>   \n",
       "</tr>\n",
       "</table>\n",
       "<table class=\"simpletable\">\n",
       "<tr>\n",
       "       <td></td>          <th>coef</th>     <th>std err</th>      <th>t</th>      <th>P>|t|</th> <th>[95.0% Conf. Int.]</th> \n",
       "</tr>\n",
       "<tr>\n",
       "  <th>AveDPT</th>      <td> 4574.4482</td> <td>  864.187</td> <td>    5.293</td> <td> 0.000</td> <td> 2854.326  6294.570</td>\n",
       "</tr>\n",
       "<tr>\n",
       "  <th>Runtime</th>     <td> 1.263e+06</td> <td> 3.11e+05</td> <td>    4.065</td> <td> 0.000</td> <td> 6.44e+05  1.88e+06</td>\n",
       "</tr>\n",
       "<tr>\n",
       "  <th>TitleLength</th> <td>-1.264e+06</td> <td> 5.42e+05</td> <td>   -2.331</td> <td> 0.022</td> <td>-2.34e+06 -1.85e+05</td>\n",
       "</tr>\n",
       "<tr>\n",
       "  <th>Ones</th>        <td> 8.294e+07</td> <td> 3.83e+07</td> <td>    2.168</td> <td> 0.033</td> <td> 6.78e+06  1.59e+08</td>\n",
       "</tr>\n",
       "</table>\n",
       "<table class=\"simpletable\">\n",
       "<tr>\n",
       "  <th>Omnibus:</th>       <td>22.769</td> <th>  Durbin-Watson:     </th> <td>   0.800</td>\n",
       "</tr>\n",
       "<tr>\n",
       "  <th>Prob(Omnibus):</th> <td> 0.000</td> <th>  Jarque-Bera (JB):  </th> <td>  34.799</td>\n",
       "</tr>\n",
       "<tr>\n",
       "  <th>Skew:</th>          <td> 1.140</td> <th>  Prob(JB):          </th> <td>2.78e-08</td>\n",
       "</tr>\n",
       "<tr>\n",
       "  <th>Kurtosis:</th>      <td> 5.206</td> <th>  Cond. No.          </th> <td>1.35e+05</td>\n",
       "</tr>\n",
       "</table>"
      ],
      "text/plain": [
       "<class 'statsmodels.iolib.summary.Summary'>\n",
       "\"\"\"\n",
       "                            OLS Regression Results                            \n",
       "==============================================================================\n",
       "Dep. Variable:     DomesticTotalGross   R-squared:                       0.397\n",
       "Model:                            OLS   Adj. R-squared:                  0.374\n",
       "Method:                 Least Squares   F-statistic:                     17.32\n",
       "Date:                Wed, 22 Apr 2015   Prob (F-statistic):           9.78e-09\n",
       "Time:                        20:45:57   Log-Likelihood:                -1603.7\n",
       "No. Observations:                  83   AIC:                             3215.\n",
       "Df Residuals:                      79   BIC:                             3225.\n",
       "Df Model:                           3                                         \n",
       "Covariance Type:            nonrobust                                         \n",
       "===============================================================================\n",
       "                  coef    std err          t      P>|t|      [95.0% Conf. Int.]\n",
       "-------------------------------------------------------------------------------\n",
       "AveDPT       4574.4482    864.187      5.293      0.000      2854.326  6294.570\n",
       "Runtime      1.263e+06   3.11e+05      4.065      0.000      6.44e+05  1.88e+06\n",
       "TitleLength -1.264e+06   5.42e+05     -2.331      0.022     -2.34e+06 -1.85e+05\n",
       "Ones         8.294e+07   3.83e+07      2.168      0.033      6.78e+06  1.59e+08\n",
       "==============================================================================\n",
       "Omnibus:                       22.769   Durbin-Watson:                   0.800\n",
       "Prob(Omnibus):                  0.000   Jarque-Bera (JB):               34.799\n",
       "Skew:                           1.140   Prob(JB):                     2.78e-08\n",
       "Kurtosis:                       5.206   Cond. No.                     1.35e+05\n",
       "==============================================================================\n",
       "\n",
       "Warnings:\n",
       "[1] Standard Errors assume that the covariance matrix of the errors is correctly specified.\n",
       "[2] The condition number is large, 1.35e+05. This might indicate that there are\n",
       "strong multicollinearity or other numerical problems.\n",
       "\"\"\""
      ]
     },
     "execution_count": 58,
     "metadata": {},
     "output_type": "execute_result"
    }
   ],
   "source": [
    "X = movies_with_AveDPT[['AveDPT','Runtime','TitleLength','Ones']]\n",
    "Y = movies_with_AveDPT['DomesticTotalGross']\n",
    "\n",
    "linmodel = smf.OLS(Y,X).fit()\n",
    "linmodel.summary()"
   ]
  },
  {
   "cell_type": "code",
   "execution_count": 69,
   "metadata": {
    "collapsed": false
   },
   "outputs": [
    {
     "data": {
      "text/html": [
       "<table class=\"simpletable\">\n",
       "<caption>OLS Regression Results</caption>\n",
       "<tr>\n",
       "  <th>Dep. Variable:</th>    <td>DomesticTotalGross</td> <th>  R-squared:         </th> <td>   0.355</td>\n",
       "</tr>\n",
       "<tr>\n",
       "  <th>Model:</th>                    <td>OLS</td>        <th>  Adj. R-squared:    </th> <td>   0.339</td>\n",
       "</tr>\n",
       "<tr>\n",
       "  <th>Method:</th>              <td>Least Squares</td>   <th>  F-statistic:       </th> <td>   22.05</td>\n",
       "</tr>\n",
       "<tr>\n",
       "  <th>Date:</th>              <td>Wed, 22 Apr 2015</td>  <th>  Prob (F-statistic):</th> <td>2.37e-08</td>\n",
       "</tr>\n",
       "<tr>\n",
       "  <th>Time:</th>                  <td>21:09:49</td>      <th>  Log-Likelihood:    </th> <td> -1606.5</td>\n",
       "</tr>\n",
       "<tr>\n",
       "  <th>No. Observations:</th>       <td>    83</td>       <th>  AIC:               </th> <td>   3219.</td>\n",
       "</tr>\n",
       "<tr>\n",
       "  <th>Df Residuals:</th>           <td>    80</td>       <th>  BIC:               </th> <td>   3226.</td>\n",
       "</tr>\n",
       "<tr>\n",
       "  <th>Df Model:</th>               <td>     2</td>       <th>                     </th>     <td> </td>   \n",
       "</tr>\n",
       "<tr>\n",
       "  <th>Covariance Type:</th>       <td>nonrobust</td>     <th>                     </th>     <td> </td>   \n",
       "</tr>\n",
       "</table>\n",
       "<table class=\"simpletable\">\n",
       "<tr>\n",
       "     <td></td>        <th>coef</th>     <th>std err</th>      <th>t</th>      <th>P>|t|</th> <th>[95.0% Conf. Int.]</th> \n",
       "</tr>\n",
       "<tr>\n",
       "  <th>AveDPT</th>  <td> 4456.4939</td> <td>  886.290</td> <td>    5.028</td> <td> 0.000</td> <td> 2692.720  6220.268</td>\n",
       "</tr>\n",
       "<tr>\n",
       "  <th>Runtime</th> <td> 9.415e+05</td> <td> 2.86e+05</td> <td>    3.291</td> <td> 0.001</td> <td> 3.72e+05  1.51e+06</td>\n",
       "</tr>\n",
       "<tr>\n",
       "  <th>Ones</th>    <td> 9.829e+07</td> <td> 3.87e+07</td> <td>    2.539</td> <td> 0.013</td> <td> 2.12e+07  1.75e+08</td>\n",
       "</tr>\n",
       "</table>\n",
       "<table class=\"simpletable\">\n",
       "<tr>\n",
       "  <th>Omnibus:</th>       <td>34.669</td> <th>  Durbin-Watson:     </th> <td>   0.637</td>\n",
       "</tr>\n",
       "<tr>\n",
       "  <th>Prob(Omnibus):</th> <td> 0.000</td> <th>  Jarque-Bera (JB):  </th> <td>  82.141</td>\n",
       "</tr>\n",
       "<tr>\n",
       "  <th>Skew:</th>          <td> 1.453</td> <th>  Prob(JB):          </th> <td>1.46e-18</td>\n",
       "</tr>\n",
       "<tr>\n",
       "  <th>Kurtosis:</th>      <td> 6.912</td> <th>  Cond. No.          </th> <td>1.33e+05</td>\n",
       "</tr>\n",
       "</table>"
      ],
      "text/plain": [
       "<class 'statsmodels.iolib.summary.Summary'>\n",
       "\"\"\"\n",
       "                            OLS Regression Results                            \n",
       "==============================================================================\n",
       "Dep. Variable:     DomesticTotalGross   R-squared:                       0.355\n",
       "Model:                            OLS   Adj. R-squared:                  0.339\n",
       "Method:                 Least Squares   F-statistic:                     22.05\n",
       "Date:                Wed, 22 Apr 2015   Prob (F-statistic):           2.37e-08\n",
       "Time:                        21:09:49   Log-Likelihood:                -1606.5\n",
       "No. Observations:                  83   AIC:                             3219.\n",
       "Df Residuals:                      80   BIC:                             3226.\n",
       "Df Model:                           2                                         \n",
       "Covariance Type:            nonrobust                                         \n",
       "==============================================================================\n",
       "                 coef    std err          t      P>|t|      [95.0% Conf. Int.]\n",
       "------------------------------------------------------------------------------\n",
       "AveDPT      4456.4939    886.290      5.028      0.000      2692.720  6220.268\n",
       "Runtime     9.415e+05   2.86e+05      3.291      0.001      3.72e+05  1.51e+06\n",
       "Ones        9.829e+07   3.87e+07      2.539      0.013      2.12e+07  1.75e+08\n",
       "==============================================================================\n",
       "Omnibus:                       34.669   Durbin-Watson:                   0.637\n",
       "Prob(Omnibus):                  0.000   Jarque-Bera (JB):               82.141\n",
       "Skew:                           1.453   Prob(JB):                     1.46e-18\n",
       "Kurtosis:                       6.912   Cond. No.                     1.33e+05\n",
       "==============================================================================\n",
       "\n",
       "Warnings:\n",
       "[1] Standard Errors assume that the covariance matrix of the errors is correctly specified.\n",
       "[2] The condition number is large, 1.33e+05. This might indicate that there are\n",
       "strong multicollinearity or other numerical problems.\n",
       "\"\"\""
      ]
     },
     "execution_count": 69,
     "metadata": {},
     "output_type": "execute_result"
    }
   ],
   "source": [
    "X = movies_with_AveDPT[['AveDPT','Runtime','Ones']]\n",
    "Y = movies_with_AveDPT['DomesticTotalGross']\n",
    "model = smf.OLS(Y,X).fit()\n",
    "model.summary()\n",
    "#len(movies_with_AveDPT)"
   ]
  },
  {
   "cell_type": "code",
   "execution_count": 75,
   "metadata": {
    "collapsed": false
   },
   "outputs": [
    {
     "data": {
      "text/plain": [
       "[<matplotlib.lines.Line2D at 0x11118bf90>]"
      ]
     },
     "execution_count": 75,
     "metadata": {},
     "output_type": "execute_result"
    },
    {
     "data": {
      "image/png": "[encoded data removed]",
      "text/plain": [
       "<matplotlib.figure.Figure at 0x1109e1d10>"
      ]
     },
     "metadata": {},
     "output_type": "display_data"
    }
   ],
   "source": [
    "# Multi-dimensional regression, but only plot 2D\n",
    "plt.scatter(movies_df.AveDPT, movies_df.DomesticTotalGross)\n",
    "plt.title('Revenue Prediction')\n",
    "plt.xlabel('Opening Weekend Revenue per Theater (USD)')\n",
    "plt.ylabel('Dometic Total Gross (USD)')\n",
    "plt.plot(movies_with_AveDPT.AveDPT, model.predict(X), 'rs')\n"
   ]
  },
  {
   "cell_type": "code",
   "execution_count": 76,
   "metadata": {
    "collapsed": false
   },
   "outputs": [
    {
     "data": {
      "text/html": [
       "<div style=\"max-height:1000px;max-width:1500px;overflow:auto;\">\n",
       "<table border=\"1\" class=\"dataframe\">\n",
       "  <thead>\n",
       "    <tr style=\"text-align: right;\">\n",
       "      <th></th>\n",
       "      <th>Actors</th>\n",
       "      <th>AveDPT</th>\n",
       "      <th>Directors</th>\n",
       "      <th>DomesticOpeningWeekend</th>\n",
       "      <th>DomesticTotalGross</th>\n",
       "      <th>Genre</th>\n",
       "      <th>MovieTitle</th>\n",
       "      <th>ProductionBudget</th>\n",
       "      <th>Rating</th>\n",
       "      <th>ReleaseDate</th>\n",
       "      <th>Runtime</th>\n",
       "      <th>Theaters</th>\n",
       "      <th>Ones</th>\n",
       "    </tr>\n",
       "  </thead>\n",
       "  <tbody>\n",
       "    <tr>\n",
       "      <th>1</th>\n",
       "      <td>Leonardo DiCaprio,Kate Winslet,Kathy Bates,Ioa...</td>\n",
       "      <td>10710</td>\n",
       "      <td>James Cameron</td>\n",
       "      <td>28638131</td>\n",
       "      <td>600788188</td>\n",
       "      <td>Romance</td>\n",
       "      <td>Titanic</td>\n",
       "      <td>200000000</td>\n",
       "      <td>PG-13</td>\n",
       "      <td>1997-12-19</td>\n",
       "      <td>194</td>\n",
       "      <td>2674</td>\n",
       "      <td>1</td>\n",
       "    </tr>\n",
       "    <tr>\n",
       "      <th>2</th>\n",
       "      <td>Robert Downey, Jr.,Chris Hemsworth,Chris Evans...</td>\n",
       "      <td>47698</td>\n",
       "      <td>Joss Whedon</td>\n",
       "      <td>207438708</td>\n",
       "      <td>623357910</td>\n",
       "      <td>Action / Adventure</td>\n",
       "      <td>Marvel's The Avengers</td>\n",
       "      <td>220000000</td>\n",
       "      <td>PG-13</td>\n",
       "      <td>2012-05-04</td>\n",
       "      <td>142</td>\n",
       "      <td>4349</td>\n",
       "      <td>1</td>\n",
       "    </tr>\n",
       "    <tr>\n",
       "      <th>3</th>\n",
       "      <td>Christian Bale,Heath Ledger,Aaron Eckhart,Morg...</td>\n",
       "      <td>36283</td>\n",
       "      <td>Christopher Nolan</td>\n",
       "      <td>158411483</td>\n",
       "      <td>533345358</td>\n",
       "      <td>Action / Adventure</td>\n",
       "      <td>The Dark Knight</td>\n",
       "      <td>185000000</td>\n",
       "      <td>PG-13</td>\n",
       "      <td>2008-07-18</td>\n",
       "      <td>150</td>\n",
       "      <td>4366</td>\n",
       "      <td>1</td>\n",
       "    </tr>\n",
       "    <tr>\n",
       "      <th>4</th>\n",
       "      <td>Liam Neeson,Ewan McGregor,Natalie Portman,Samu...</td>\n",
       "      <td>21825</td>\n",
       "      <td>George Lucas</td>\n",
       "      <td>64820970</td>\n",
       "      <td>431088295</td>\n",
       "      <td>Sci-Fi Fantasy</td>\n",
       "      <td>Star Wars: Episode I - The Phantom Menace</td>\n",
       "      <td>115000000</td>\n",
       "      <td>PG</td>\n",
       "      <td>1999-05-19</td>\n",
       "      <td>133</td>\n",
       "      <td>2970</td>\n",
       "      <td>1</td>\n",
       "    </tr>\n",
       "    <tr>\n",
       "      <th>6</th>\n",
       "      <td>Christian Bale,Michael Caine,Anne Hathaway,Tom...</td>\n",
       "      <td>36532</td>\n",
       "      <td>Christopher Nolan</td>\n",
       "      <td>160887295</td>\n",
       "      <td>448139099</td>\n",
       "      <td>Action Thriller</td>\n",
       "      <td>The Dark Knight Rises</td>\n",
       "      <td>250000000</td>\n",
       "      <td>PG-13</td>\n",
       "      <td>2012-07-20</td>\n",
       "      <td>165</td>\n",
       "      <td>4404</td>\n",
       "      <td>1</td>\n",
       "    </tr>\n",
       "  </tbody>\n",
       "</table>\n",
       "</div>"
      ],
      "text/plain": [
       "                                              Actors  AveDPT  \\\n",
       "1  Leonardo DiCaprio,Kate Winslet,Kathy Bates,Ioa...   10710   \n",
       "2  Robert Downey, Jr.,Chris Hemsworth,Chris Evans...   47698   \n",
       "3  Christian Bale,Heath Ledger,Aaron Eckhart,Morg...   36283   \n",
       "4  Liam Neeson,Ewan McGregor,Natalie Portman,Samu...   21825   \n",
       "6  Christian Bale,Michael Caine,Anne Hathaway,Tom...   36532   \n",
       "\n",
       "           Directors  DomesticOpeningWeekend  DomesticTotalGross  \\\n",
       "1      James Cameron                28638131           600788188   \n",
       "2        Joss Whedon               207438708           623357910   \n",
       "3  Christopher Nolan               158411483           533345358   \n",
       "4       George Lucas                64820970           431088295   \n",
       "6  Christopher Nolan               160887295           448139099   \n",
       "\n",
       "                Genre                                 MovieTitle  \\\n",
       "1             Romance                                    Titanic   \n",
       "2  Action / Adventure                      Marvel's The Avengers   \n",
       "3  Action / Adventure                            The Dark Knight   \n",
       "4      Sci-Fi Fantasy  Star Wars: Episode I - The Phantom Menace   \n",
       "6     Action Thriller                      The Dark Knight Rises   \n",
       "\n",
       "   ProductionBudget Rating ReleaseDate  Runtime  Theaters  Ones  \n",
       "1         200000000  PG-13  1997-12-19      194      2674     1  \n",
       "2         220000000  PG-13  2012-05-04      142      4349     1  \n",
       "3         185000000  PG-13  2008-07-18      150      4366     1  \n",
       "4         115000000     PG  1999-05-19      133      2970     1  \n",
       "6         250000000  PG-13  2012-07-20      165      4404     1  "
      ]
     },
     "execution_count": 76,
     "metadata": {},
     "output_type": "execute_result"
    }
   ],
   "source": [
    "movies_with_AveDPT = pd.concat([movies_with_AveDPT, pd.get_dummies(movies_with_AveDPT['Rating'])], axis=1) # We're adding columns, not rows\n",
    "movies_with_budget.head()"
   ]
  },
  {
   "cell_type": "code",
   "execution_count": 77,
   "metadata": {
    "collapsed": false
   },
   "outputs": [
    {
     "data": {
      "text/html": [
       "<table class=\"simpletable\">\n",
       "<caption>OLS Regression Results</caption>\n",
       "<tr>\n",
       "  <th>Dep. Variable:</th>    <td>DomesticTotalGross</td> <th>  R-squared:         </th> <td>   0.282</td>\n",
       "</tr>\n",
       "<tr>\n",
       "  <th>Model:</th>                    <td>OLS</td>        <th>  Adj. R-squared:    </th> <td>   0.245</td>\n",
       "</tr>\n",
       "<tr>\n",
       "  <th>Method:</th>              <td>Least Squares</td>   <th>  F-statistic:       </th> <td>   7.665</td>\n",
       "</tr>\n",
       "<tr>\n",
       "  <th>Date:</th>              <td>Wed, 22 Apr 2015</td>  <th>  Prob (F-statistic):</th> <td>2.91e-05</td>\n",
       "</tr>\n",
       "<tr>\n",
       "  <th>Time:</th>                  <td>21:54:17</td>      <th>  Log-Likelihood:    </th> <td> -1611.0</td>\n",
       "</tr>\n",
       "<tr>\n",
       "  <th>No. Observations:</th>       <td>    83</td>       <th>  AIC:               </th> <td>   3232.</td>\n",
       "</tr>\n",
       "<tr>\n",
       "  <th>Df Residuals:</th>           <td>    78</td>       <th>  BIC:               </th> <td>   3244.</td>\n",
       "</tr>\n",
       "<tr>\n",
       "  <th>Df Model:</th>               <td>     4</td>       <th>                     </th>     <td> </td>   \n",
       "</tr>\n",
       "<tr>\n",
       "  <th>Covariance Type:</th>       <td>nonrobust</td>     <th>                     </th>     <td> </td>   \n",
       "</tr>\n",
       "</table>\n",
       "<table class=\"simpletable\">\n",
       "<tr>\n",
       "     <td></td>       <th>coef</th>     <th>std err</th>      <th>t</th>      <th>P>|t|</th> <th>[95.0% Conf. Int.]</th> \n",
       "</tr>\n",
       "<tr>\n",
       "  <th>AveDPT</th> <td> 4775.6129</td> <td>  963.425</td> <td>    4.957</td> <td> 0.000</td> <td> 2857.581  6693.645</td>\n",
       "</tr>\n",
       "<tr>\n",
       "  <th>PG</th>     <td>-1.416e+07</td> <td> 3.63e+07</td> <td>   -0.391</td> <td> 0.697</td> <td>-8.63e+07   5.8e+07</td>\n",
       "</tr>\n",
       "<tr>\n",
       "  <th>PG-13</th>  <td> 3.066e+06</td> <td>  3.5e+07</td> <td>    0.088</td> <td> 0.930</td> <td>-6.66e+07  7.27e+07</td>\n",
       "</tr>\n",
       "<tr>\n",
       "  <th>R</th>      <td>-2.723e+07</td> <td> 4.75e+07</td> <td>   -0.574</td> <td> 0.568</td> <td>-1.22e+08  6.73e+07</td>\n",
       "</tr>\n",
       "<tr>\n",
       "  <th>Ones</th>   <td>  2.15e+08</td> <td>  3.9e+07</td> <td>    5.514</td> <td> 0.000</td> <td> 1.37e+08  2.93e+08</td>\n",
       "</tr>\n",
       "</table>\n",
       "<table class=\"simpletable\">\n",
       "<tr>\n",
       "  <th>Omnibus:</th>       <td>51.893</td> <th>  Durbin-Watson:     </th> <td>   0.510</td>\n",
       "</tr>\n",
       "<tr>\n",
       "  <th>Prob(Omnibus):</th> <td> 0.000</td> <th>  Jarque-Bera (JB):  </th> <td> 217.714</td>\n",
       "</tr>\n",
       "<tr>\n",
       "  <th>Skew:</th>          <td> 1.953</td> <th>  Prob(JB):          </th> <td>5.30e-48</td>\n",
       "</tr>\n",
       "<tr>\n",
       "  <th>Kurtosis:</th>      <td> 9.907</td> <th>  Cond. No.          </th> <td>2.27e+05</td>\n",
       "</tr>\n",
       "</table>"
      ],
      "text/plain": [
       "<class 'statsmodels.iolib.summary.Summary'>\n",
       "\"\"\"\n",
       "                            OLS Regression Results                            \n",
       "==============================================================================\n",
       "Dep. Variable:     DomesticTotalGross   R-squared:                       0.282\n",
       "Model:                            OLS   Adj. R-squared:                  0.245\n",
       "Method:                 Least Squares   F-statistic:                     7.665\n",
       "Date:                Wed, 22 Apr 2015   Prob (F-statistic):           2.91e-05\n",
       "Time:                        21:54:17   Log-Likelihood:                -1611.0\n",
       "No. Observations:                  83   AIC:                             3232.\n",
       "Df Residuals:                      78   BIC:                             3244.\n",
       "Df Model:                           4                                         \n",
       "Covariance Type:            nonrobust                                         \n",
       "==============================================================================\n",
       "                 coef    std err          t      P>|t|      [95.0% Conf. Int.]\n",
       "------------------------------------------------------------------------------\n",
       "AveDPT      4775.6129    963.425      4.957      0.000      2857.581  6693.645\n",
       "PG         -1.416e+07   3.63e+07     -0.391      0.697     -8.63e+07   5.8e+07\n",
       "PG-13       3.066e+06    3.5e+07      0.088      0.930     -6.66e+07  7.27e+07\n",
       "R          -2.723e+07   4.75e+07     -0.574      0.568     -1.22e+08  6.73e+07\n",
       "Ones         2.15e+08    3.9e+07      5.514      0.000      1.37e+08  2.93e+08\n",
       "==============================================================================\n",
       "Omnibus:                       51.893   Durbin-Watson:                   0.510\n",
       "Prob(Omnibus):                  0.000   Jarque-Bera (JB):              217.714\n",
       "Skew:                           1.953   Prob(JB):                     5.30e-48\n",
       "Kurtosis:                       9.907   Cond. No.                     2.27e+05\n",
       "==============================================================================\n",
       "\n",
       "Warnings:\n",
       "[1] Standard Errors assume that the covariance matrix of the errors is correctly specified.\n",
       "[2] The condition number is large, 2.27e+05. This might indicate that there are\n",
       "strong multicollinearity or other numerical problems.\n",
       "\"\"\""
      ]
     },
     "execution_count": 77,
     "metadata": {},
     "output_type": "execute_result"
    }
   ],
   "source": [
    "X = movies_with_AveDPT[['AveDPT','PG','PG-13','R','Ones']]\n",
    "Y = movies_with_AveDPT['DomesticTotalGross']\n",
    "\n",
    "linmodel = sm.OLS(Y,X).fit()\n",
    "linmodel.summary()"
   ]
  }
 ],
 "metadata": {
  "kernelspec": {
   "display_name": "Python 2",
   "language": "python",
   "name": "python2"
  },
  "language_info": {
   "codemirror_mode": {
    "name": "ipython",
    "version": 2
   },
   "file_extension": ".py",
   "mimetype": "text/x-python",
   "name": "python",
   "nbconvert_exporter": "python",
   "pygments_lexer": "ipython2",
   "version": "2.7.9"
  }
 },
 "nbformat": 4,
 "nbformat_minor": 0
}
