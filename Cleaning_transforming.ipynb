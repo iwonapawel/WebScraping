{
 "cells": [
  {
   "cell_type": "markdown",
   "metadata": {},
   "source": [
    "### Cleaning/transforming some objects from pickle and storing them in MongoDB:\n",
    "db = boxofficemojo, collection = movies"
   ]
  },
  {
   "cell_type": "code",
   "execution_count": 75,
   "metadata": {
    "collapsed": false
   },
   "outputs": [],
   "source": [
    "import pickle\n",
    "import pandas as pd\n",
    "import numpy as np\n",
    "from matplotlib import pyplot as plt\n",
    "import re\n",
    "import dateutil.parser\n",
    "import logging\n",
    "logging.basicConfig(level=logging.DEBUG)\n",
    "from pymongo import MongoClient"
   ]
  },
  {
   "cell_type": "markdown",
   "metadata": {
    "collapsed": true
   },
   "source": [
    "with open(\"all_boxofficemojo.pkl\",\"r\") as picklefile:\n",
    "    data = pickle.load(picklefile)"
   ]
  },
  {
   "cell_type": "code",
   "execution_count": 48,
   "metadata": {
    "collapsed": false
   },
   "outputs": [
    {
     "name": "stdout",
     "output_type": "stream",
     "text": [
      "[{'MPAA Rating': u'PG-13', 'openWDG': 247966675.0, 'Production Budget': u'$245 million', 'OWtheaters': u'(#1 rank, 4,134 theaters, $59,982 average)', 'title': u'Star Wars: The Force Awakens (2015)', 'Genre:': u'Sci-Fi Fantasy', 'Domestic Total': None, 'Producer': [u'J.J. Abrams', u'Bryan Burk', u'Kathleen Kennedy'], 'Actor': [u\"Lupita Nyong'o\", u'John Boyega', u'Daisy Ridley', u'Andy Serkis', u'Harrison Ford', u'Carrie Fisher', u'Mark Hamill', u'Anthony Daniels', u'Peter Mayhew'], 'Director': [u'J.J. Abrams'], 'TLG': 935518389.0, 'Composer': [u'John Williams'], 'Distributor': u'Buena Vista', 'Runtime': u'2 hrs. 16 min.', 'Writer': [u'J.J. Abrams', u'Michael Arndt', u'Lawrence Kasdan'], 'Release Date': u'December 18, 2015'}]\n"
     ]
    }
   ],
   "source": [
    "print data[:1]"
   ]
  },
  {
   "cell_type": "code",
   "execution_count": 49,
   "metadata": {
    "collapsed": true
   },
   "outputs": [],
   "source": [
    "def budget_to_number(budget):\n",
    "    \"\"\" Returns budget as float\"\"\"\n",
    "    \n",
    "    if budget != 'N/A':\n",
    "        production_budget = float(budget.strip(\"$\").replace(\" million\",\"\")) * 1000000\n",
    "        return production_budget\n",
    "    else:\n",
    "        return None\n",
    "  "
   ]
  },
  {
   "cell_type": "code",
   "execution_count": 73,
   "metadata": {
    "collapsed": true
   },
   "outputs": [],
   "source": [
    "def per_theater(theaters):\n",
    "    \"\"\" Returns revenue per theater\"\"\"\n",
    "    \n",
    "    if '$' in theaters:\n",
    "        return float(theaters.split(\" \")[4].strip(\"$\").replace(\",\",\"\"))\n",
    "    else:\n",
    "        return None\n",
    "   "
   ]
  },
  {
   "cell_type": "code",
   "execution_count": 51,
   "metadata": {
    "collapsed": true
   },
   "outputs": [],
   "source": [
    "def runtime_to_minutes(movie_time):\n",
    "    \"\"\"Returns time in minutes\"\"\"\n",
    "    \n",
    "    rtime = movie_time.split(\" \")\n",
    "    rtime = (float(rtime[0]) * 60. + float(rtime[2]))\n",
    "    return rtime\n"
   ]
  },
  {
   "cell_type": "code",
   "execution_count": 52,
   "metadata": {
    "collapsed": true
   },
   "outputs": [],
   "source": [
    "def to_date(datestring):\n",
    "    \"\"\"Returns date\"\"\"\n",
    "    \n",
    "    date = dateutil.parser.parse(datestring).date()\n",
    "    return date"
   ]
  },
  {
   "cell_type": "code",
   "execution_count": 82,
   "metadata": {
    "collapsed": false
   },
   "outputs": [
    {
     "name": "stdout",
     "output_type": "stream",
     "text": [
      "14006\n",
      "[{'Genre:': u'Sci-Fi Fantasy', 'Production Budget': 245000000.0, 'OWtheaters': 59982.0, 'title': u'Star Wars: The Force Awakens (2015)', 'openWDG': 247966675.0, 'Domestic Total': None, 'Producer': [u'J.J. Abrams', u'Bryan Burk', u'Kathleen Kennedy'], 'Actor': [u\"Lupita Nyong'o\", u'John Boyega', u'Daisy Ridley', u'Andy Serkis', u'Harrison Ford', u'Carrie Fisher', u'Mark Hamill', u'Anthony Daniels', u'Peter Mayhew'], 'Director': [u'J.J. Abrams'], 'TLG': 935518389.0, 'Composer': [u'John Williams'], 'Distributor': u'Buena Vista', 'MPAA Rating': u'PG-13', 'Writer': [u'J.J. Abrams', u'Michael Arndt', u'Lawrence Kasdan'], 'Release Date': u'December 18, 2015', 'Runtime': 136.0}]\n"
     ]
    }
   ],
   "source": [
    "new_l = []\n",
    "\n",
    "for _ in data:\n",
    "    \n",
    "    new_d = {}\n",
    "    for item in _.items(): \n",
    "        try:\n",
    "            if item[0]  == 'Production Budget':\n",
    "                new_d[item[0]] = budget_to_number(item[1])\n",
    "            elif item[0] == 'OWtheaters':\n",
    "                new_d[item[0]] = per_theater(item[1])\n",
    "            elif item[0] == 'Runtime':\n",
    "                new_d[item[0]] = runtime_to_minutes(item[1])\n",
    "            #elif item[0] == 'Release Date':\n",
    "                #new_d[item[0]] = to_date(item[1])\n",
    "            else:\n",
    "                new_d[item[0]] = item[1]\n",
    "                \n",
    "        except Exception:\n",
    "            pass\n",
    "        \n",
    "    new_l.append(new_d)\n",
    "    \n",
    "print len(new_l)   \n",
    "print new_l[:1]"
   ]
  },
  {
   "cell_type": "code",
   "execution_count": 83,
   "metadata": {
    "collapsed": false
   },
   "outputs": [],
   "source": [
    "client = MongoClient()"
   ]
  },
  {
   "cell_type": "code",
   "execution_count": 84,
   "metadata": {
    "collapsed": false
   },
   "outputs": [
    {
     "name": "stdout",
     "output_type": "stream",
     "text": [
      "14006\n"
     ]
    }
   ],
   "source": [
    "print len(new_l)"
   ]
  },
  {
   "cell_type": "code",
   "execution_count": 85,
   "metadata": {
    "collapsed": false
   },
   "outputs": [
    {
     "data": {
      "text/plain": [
       "14006"
      ]
     },
     "execution_count": 85,
     "metadata": {},
     "output_type": "execute_result"
    }
   ],
   "source": [
    "db = client.boxofficemojo\n",
    "movies = db.movies\n",
    "for _ in new_l:\n",
    "    movies.save(_)\n",
    "movies.count()"
   ]
  },
  {
   "cell_type": "code",
   "execution_count": 86,
   "metadata": {
    "collapsed": false
   },
   "outputs": [
    {
     "data": {
      "text/plain": [
       "[u'movies', u'system.indexes']"
      ]
     },
     "execution_count": 86,
     "metadata": {},
     "output_type": "execute_result"
    }
   ],
   "source": [
    "db.collection_names()"
   ]
  }
 ],
 "metadata": {
  "kernelspec": {
   "display_name": "Python 2",
   "language": "python",
   "name": "python2"
  },
  "language_info": {
   "codemirror_mode": {
    "name": "ipython",
    "version": 2
   },
   "file_extension": ".py",
   "mimetype": "text/x-python",
   "name": "python",
   "nbconvert_exporter": "python",
   "pygments_lexer": "ipython2",
   "version": "2.7.9"
  }
 },
 "nbformat": 4,
 "nbformat_minor": 0
}
